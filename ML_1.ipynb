{
 "cells": [
  {
   "cell_type": "code",
   "execution_count": 47,
   "metadata": {},
   "outputs": [],
   "source": [
    "import numpy as np\n",
    "import pandas as pd\n",
    "import matplotlib.pyplot as plt\n",
    "import seaborn as sns"
   ]
  },
  {
   "cell_type": "code",
   "execution_count": 48,
   "metadata": {},
   "outputs": [
    {
     "data": {
      "text/html": [
       "<div>\n",
       "<style scoped>\n",
       "    .dataframe tbody tr th:only-of-type {\n",
       "        vertical-align: middle;\n",
       "    }\n",
       "\n",
       "    .dataframe tbody tr th {\n",
       "        vertical-align: top;\n",
       "    }\n",
       "\n",
       "    .dataframe thead th {\n",
       "        text-align: right;\n",
       "    }\n",
       "</style>\n",
       "<table border=\"1\" class=\"dataframe\">\n",
       "  <thead>\n",
       "    <tr style=\"text-align: right;\">\n",
       "      <th></th>\n",
       "      <th>Unnamed: 0</th>\n",
       "      <th>S.No</th>\n",
       "      <th>USERNAME</th>\n",
       "      <th>Caption</th>\n",
       "      <th>Followers</th>\n",
       "      <th>Hashtags</th>\n",
       "      <th>Time since posted</th>\n",
       "      <th>Likes</th>\n",
       "    </tr>\n",
       "  </thead>\n",
       "  <tbody>\n",
       "    <tr>\n",
       "      <th>0</th>\n",
       "      <td>0</td>\n",
       "      <td>1</td>\n",
       "      <td>mikequindazzi</td>\n",
       "      <td>Who are #DataScientist and what do they do? &gt;&gt;...</td>\n",
       "      <td>1600</td>\n",
       "      <td>#MachineLearning #AI #DataAnalytics #DataScien...</td>\n",
       "      <td>11 hours</td>\n",
       "      <td>139</td>\n",
       "    </tr>\n",
       "    <tr>\n",
       "      <th>1</th>\n",
       "      <td>1</td>\n",
       "      <td>2</td>\n",
       "      <td>drgorillapaints</td>\n",
       "      <td>We all know where it’s going. We just have to ...</td>\n",
       "      <td>880</td>\n",
       "      <td>#deck .#mac #macintosh#sayhello #apple #steve...</td>\n",
       "      <td>2 hours</td>\n",
       "      <td>23</td>\n",
       "    </tr>\n",
       "    <tr>\n",
       "      <th>2</th>\n",
       "      <td>2</td>\n",
       "      <td>3</td>\n",
       "      <td>aitrading_official</td>\n",
       "      <td>Alexander Barinov: 4 years as CFO in multinati...</td>\n",
       "      <td>255</td>\n",
       "      <td>#whoiswho #aitrading #ai #aitradingteam#instat...</td>\n",
       "      <td>2 hours</td>\n",
       "      <td>25</td>\n",
       "    </tr>\n",
       "    <tr>\n",
       "      <th>3</th>\n",
       "      <td>3</td>\n",
       "      <td>4</td>\n",
       "      <td>opensourcedworkplace</td>\n",
       "      <td>sfad</td>\n",
       "      <td>340</td>\n",
       "      <td>#iot #cre#workplace #CDO #bigdata #technology#...</td>\n",
       "      <td>3 hours</td>\n",
       "      <td>49</td>\n",
       "    </tr>\n",
       "    <tr>\n",
       "      <th>4</th>\n",
       "      <td>4</td>\n",
       "      <td>5</td>\n",
       "      <td>crea.vision</td>\n",
       "      <td>Ever missed a call while your phone was chargi...</td>\n",
       "      <td>304</td>\n",
       "      <td>#instamachinelearning #instabigdata#instamarke...</td>\n",
       "      <td>3 hours</td>\n",
       "      <td>30</td>\n",
       "    </tr>\n",
       "  </tbody>\n",
       "</table>\n",
       "</div>"
      ],
      "text/plain": [
       "   Unnamed: 0  S.No              USERNAME   \n",
       "0           0     1         mikequindazzi  \\\n",
       "1           1     2       drgorillapaints   \n",
       "2           2     3    aitrading_official   \n",
       "3           3     4  opensourcedworkplace   \n",
       "4           4     5           crea.vision   \n",
       "\n",
       "                                             Caption  Followers   \n",
       "0  Who are #DataScientist and what do they do? >>...       1600  \\\n",
       "1  We all know where it’s going. We just have to ...        880   \n",
       "2  Alexander Barinov: 4 years as CFO in multinati...        255   \n",
       "3                                               sfad        340   \n",
       "4  Ever missed a call while your phone was chargi...        304   \n",
       "\n",
       "                                            Hashtags Time since posted  Likes  \n",
       "0  #MachineLearning #AI #DataAnalytics #DataScien...          11 hours    139  \n",
       "1   #deck .#mac #macintosh#sayhello #apple #steve...           2 hours     23  \n",
       "2  #whoiswho #aitrading #ai #aitradingteam#instat...           2 hours     25  \n",
       "3  #iot #cre#workplace #CDO #bigdata #technology#...           3 hours     49  \n",
       "4  #instamachinelearning #instabigdata#instamarke...           3 hours     30  "
      ]
     },
     "execution_count": 48,
     "metadata": {},
     "output_type": "execute_result"
    }
   ],
   "source": [
    "df = pd.read_csv(\"./data/instagram_reach.csv\")\n",
    "df.head()"
   ]
  },
  {
   "cell_type": "markdown",
   "metadata": {},
   "source": [
    "# Exploratory Data Analysis"
   ]
  },
  {
   "cell_type": "code",
   "execution_count": 49,
   "metadata": {},
   "outputs": [
    {
     "data": {
      "text/plain": [
       "(100, 8)"
      ]
     },
     "execution_count": 49,
     "metadata": {},
     "output_type": "execute_result"
    }
   ],
   "source": [
    "# understanding the data\n",
    "df.shape\n",
    "\n",
    "# 100 rows and 6 columns"
   ]
  },
  {
   "cell_type": "code",
   "execution_count": 50,
   "metadata": {},
   "outputs": [
    {
     "name": "stdout",
     "output_type": "stream",
     "text": [
      "<class 'pandas.core.frame.DataFrame'>\n",
      "RangeIndex: 100 entries, 0 to 99\n",
      "Data columns (total 8 columns):\n",
      " #   Column             Non-Null Count  Dtype \n",
      "---  ------             --------------  ----- \n",
      " 0   Unnamed: 0         100 non-null    int64 \n",
      " 1   S.No               100 non-null    int64 \n",
      " 2   USERNAME           100 non-null    object\n",
      " 3   Caption            94 non-null     object\n",
      " 4   Followers          100 non-null    int64 \n",
      " 5   Hashtags           100 non-null    object\n",
      " 6   Time since posted  100 non-null    object\n",
      " 7   Likes              100 non-null    int64 \n",
      "dtypes: int64(4), object(4)\n",
      "memory usage: 6.4+ KB\n"
     ]
    },
    {
     "data": {
      "text/plain": [
       "Unnamed: 0            int64\n",
       "S.No                  int64\n",
       "USERNAME             object\n",
       "Caption              object\n",
       "Followers             int64\n",
       "Hashtags             object\n",
       "Time since posted    object\n",
       "Likes                 int64\n",
       "dtype: object"
      ]
     },
     "execution_count": 50,
     "metadata": {},
     "output_type": "execute_result"
    }
   ],
   "source": [
    "df.info()\n",
    "df.dtypes\n",
    "\n",
    "\n",
    "\n"
   ]
  },
  {
   "cell_type": "code",
   "execution_count": 51,
   "metadata": {},
   "outputs": [],
   "source": [
    "# Describe the data variable \n",
    "\n",
    "# usename- name of the user , (text)\n",
    "#  caption- description of the post ( text), \n",
    "# followers- number of followers ( integer),\n",
    "#  hashtags- hashtags used ( text),\n",
    "#  time since posted - time since post ( text),\n",
    "#  likes - number of likes on the post ( integer) - target variable\n",
    "\n",
    "\n",
    "\n"
   ]
  },
  {
   "cell_type": "markdown",
   "metadata": {},
   "source": [
    "## Describe the data variable \n",
    "\n",
    "###  usename- name of the user , (text)\n",
    "###   caption- description of the post ( text), \n",
    "### followers- number of followers ( integer),\n",
    "###  hashtags- hashtags used ( text),\n",
    "###  time since posted - time since post ( text),\n",
    "###  likes - number of likes on the post ( integer) - target variable"
   ]
  },
  {
   "cell_type": "code",
   "execution_count": 52,
   "metadata": {},
   "outputs": [
    {
     "data": {
      "text/plain": [
       "Unnamed: 0           0\n",
       "S.No                 0\n",
       "USERNAME             0\n",
       "Caption              6\n",
       "Followers            0\n",
       "Hashtags             0\n",
       "Time since posted    0\n",
       "Likes                0\n",
       "dtype: int64"
      ]
     },
     "execution_count": 52,
     "metadata": {},
     "output_type": "execute_result"
    }
   ],
   "source": [
    "# check for missing values\n",
    "df.isnull().sum()"
   ]
  },
  {
   "cell_type": "code",
   "execution_count": 53,
   "metadata": {},
   "outputs": [],
   "source": [
    "# handle missing values in caption column by using fillna method instead of dropna method becaause the size of dataset is very small and we can't drop 6 values\n",
    "\n",
    "df['Caption'].fillna(df['Caption'].mode()[0], inplace=True)"
   ]
  },
  {
   "cell_type": "code",
   "execution_count": 54,
   "metadata": {},
   "outputs": [
    {
     "data": {
      "text/plain": [
       "Unnamed: 0           0\n",
       "S.No                 0\n",
       "USERNAME             0\n",
       "Caption              0\n",
       "Followers            0\n",
       "Hashtags             0\n",
       "Time since posted    0\n",
       "Likes                0\n",
       "dtype: int64"
      ]
     },
     "execution_count": 54,
     "metadata": {},
     "output_type": "execute_result"
    }
   ],
   "source": [
    "# check for missing values\n",
    "df.isnull().sum()\n",
    "\n"
   ]
  },
  {
   "cell_type": "code",
   "execution_count": 55,
   "metadata": {},
   "outputs": [
    {
     "data": {
      "text/plain": [
       "0"
      ]
     },
     "execution_count": 55,
     "metadata": {},
     "output_type": "execute_result"
    }
   ],
   "source": [
    "# check for duplicates\n",
    "df.duplicated().sum()\n",
    "\n",
    "# there are no duplicates in the dataset "
   ]
  },
  {
   "cell_type": "code",
   "execution_count": 56,
   "metadata": {},
   "outputs": [
    {
     "data": {
      "text/html": [
       "<div>\n",
       "<style scoped>\n",
       "    .dataframe tbody tr th:only-of-type {\n",
       "        vertical-align: middle;\n",
       "    }\n",
       "\n",
       "    .dataframe tbody tr th {\n",
       "        vertical-align: top;\n",
       "    }\n",
       "\n",
       "    .dataframe thead th {\n",
       "        text-align: right;\n",
       "    }\n",
       "</style>\n",
       "<table border=\"1\" class=\"dataframe\">\n",
       "  <thead>\n",
       "    <tr style=\"text-align: right;\">\n",
       "      <th></th>\n",
       "      <th>count</th>\n",
       "      <th>mean</th>\n",
       "      <th>std</th>\n",
       "      <th>min</th>\n",
       "      <th>25%</th>\n",
       "      <th>50%</th>\n",
       "      <th>75%</th>\n",
       "      <th>max</th>\n",
       "    </tr>\n",
       "  </thead>\n",
       "  <tbody>\n",
       "    <tr>\n",
       "      <th>Unnamed: 0</th>\n",
       "      <td>100.0</td>\n",
       "      <td>8.94</td>\n",
       "      <td>6.639064</td>\n",
       "      <td>0.0</td>\n",
       "      <td>4.00</td>\n",
       "      <td>8.0</td>\n",
       "      <td>12.25</td>\n",
       "      <td>26.0</td>\n",
       "    </tr>\n",
       "    <tr>\n",
       "      <th>S.No</th>\n",
       "      <td>100.0</td>\n",
       "      <td>16.24</td>\n",
       "      <td>7.384286</td>\n",
       "      <td>1.0</td>\n",
       "      <td>10.75</td>\n",
       "      <td>16.5</td>\n",
       "      <td>22.25</td>\n",
       "      <td>30.0</td>\n",
       "    </tr>\n",
       "    <tr>\n",
       "      <th>Followers</th>\n",
       "      <td>100.0</td>\n",
       "      <td>961.96</td>\n",
       "      <td>1014.625670</td>\n",
       "      <td>11.0</td>\n",
       "      <td>252.75</td>\n",
       "      <td>612.0</td>\n",
       "      <td>1197.00</td>\n",
       "      <td>4496.0</td>\n",
       "    </tr>\n",
       "    <tr>\n",
       "      <th>Likes</th>\n",
       "      <td>100.0</td>\n",
       "      <td>46.48</td>\n",
       "      <td>55.086980</td>\n",
       "      <td>8.0</td>\n",
       "      <td>19.00</td>\n",
       "      <td>29.0</td>\n",
       "      <td>46.00</td>\n",
       "      <td>349.0</td>\n",
       "    </tr>\n",
       "  </tbody>\n",
       "</table>\n",
       "</div>"
      ],
      "text/plain": [
       "            count    mean          std   min     25%    50%      75%     max\n",
       "Unnamed: 0  100.0    8.94     6.639064   0.0    4.00    8.0    12.25    26.0\n",
       "S.No        100.0   16.24     7.384286   1.0   10.75   16.5    22.25    30.0\n",
       "Followers   100.0  961.96  1014.625670  11.0  252.75  612.0  1197.00  4496.0\n",
       "Likes       100.0   46.48    55.086980   8.0   19.00   29.0    46.00   349.0"
      ]
     },
     "execution_count": 56,
     "metadata": {},
     "output_type": "execute_result"
    }
   ],
   "source": [
    "# Descriptive Statistics:\n",
    "\n",
    "df.describe().T"
   ]
  },
  {
   "cell_type": "code",
   "execution_count": 57,
   "metadata": {},
   "outputs": [
    {
     "data": {
      "text/plain": [
       "<Axes: >"
      ]
     },
     "execution_count": 57,
     "metadata": {},
     "output_type": "execute_result"
    },
    {
     "data": {
      "image/png": "[encoded data removed]",
      "text/plain": [
       "<Figure size 640x480 with 1 Axes>"
      ]
     },
     "metadata": {},
     "output_type": "display_data"
    }
   ],
   "source": [
    "# Univariate Analysis:\n",
    "\n",
    "# 1. Check for outliers\n",
    "\n",
    "sns.boxplot(data=df)\n",
    "\n",
    "# outliers present in the data in followers and likes columns\n",
    "\n"
   ]
  },
  {
   "cell_type": "code",
   "execution_count": 62,
   "metadata": {},
   "outputs": [
    {
     "data": {
      "text/plain": [
       "<Axes: xlabel='Followers', ylabel='Count'>"
      ]
     },
     "execution_count": 62,
     "metadata": {},
     "output_type": "execute_result"
    },
    {
     "data": {
      "image/png": "[encoded data removed]",
      "text/plain": [
       "<Figure size 640x480 with 1 Axes>"
      ]
     },
     "metadata": {},
     "output_type": "display_data"
    }
   ],
   "source": [
    "# histogram of the data\n",
    "\n",
    "sns.histplot(data=df, x='Followers', bins=30, kde=True)\n",
    "\n",
    "# Followers column has right skewness\n",
    "\n",
    "sns.histplot(data=df, x='Likes', bins=30, kde=True, color='red')\n",
    "\n",
    "# Likes column has right skewness\n"
   ]
  },
  {
   "cell_type": "code",
   "execution_count": 66,
   "metadata": {},
   "outputs": [
    {
     "name": "stdout",
     "output_type": "stream",
     "text": [
      "USERNAME: ['mikequindazzi' 'drgorillapaints' 'aitrading_official'\n",
      " 'opensourcedworkplace' 'crea.vision' 'be.masterly' 'lenovoworkstations'\n",
      " 'kirellb' 'ethicsandai' 'diworksolucionesdeti' 'databowl' 'edwisor_india'\n",
      " 'ubiqum' 'artificialintelligence.a.i' 'ansonmccade' 'jennifercodes'\n",
      " 'eligible.api' 'ale_borba' 'amjstaffing' 'writtorg' 'superdatascience'\n",
      " 'xotivtechnologies' 'onthetopsearch' 'data_enthusiast' 'programmer.io'\n",
      " 'coding.is.life' 'theminest_' 'philosophercoin' 'greenhousegroup'\n",
      " 'neondistrictrpg' 'blocsidesports' 'cryptocrackhead' 'gsmusicgroupllc'\n",
      " 'iotatokennews' 'bitpainting' '_linda_smith567' 'litebit.eu'\n",
      " 'meganbloemsma' 'ricmiqads' 'hollympeck' 'artificial_quotes' 'interwall'\n",
      " 'entrancegmbh' 'usccareercenter' '_ehab.othman_' 'anki7singh'\n",
      " 'mbnsolutions' 'triatebr' 'orcan_intel' 'funnelaico' 'iamalexleyva'\n",
      " 'astrokpj' 'big.data.hush' 'iamjunkbot' 'ivarski' 'roland.busch'\n",
      " 'oboteo.ai' 'cris.nemeth' 'interplayofficial' 'alpha_mentor_' 'magnodc'\n",
      " 'thebeautymindset' 'remi_ole' 'shine_my_idol' 'greg_turner44'\n",
      " 'siansocial' 'meaningful_quotee' 'kamalalshehabi' 'bitcoinebook'\n",
      " 'iamjaradwright' 'rare.planet' 'flornasweets' 'lpsahil' 'vaultcolombia'\n",
      " 'anandvanjape' 'mrproductionmiami' 'ah_studio_' 'illumensfragrance'\n",
      " 'applewantnews' 'pazrahn' 'monde_informatique' 'eric_pond_designs'\n",
      " 'onlyonecoops' 'brad_0611' 'inmemovement' 'the_ios_developer' 'swiatik'\n",
      " 'caseyjmcclure' 'benasdzimidas' 'praveen_rangasubhe' 'michaelgarza__'\n",
      " 'dvlp_search' 'ecom.space' 'lb3enterprises' 'palmariusdev']\n",
      "------------------------\n",
      "USERNAME\n",
      "mikequindazzi           4\n",
      "philosophercoin         2\n",
      "opensourcedworkplace    2\n",
      "thebeautymindset        1\n",
      "iamjaradwright          1\n",
      "                       ..\n",
      "cryptocrackhead         1\n",
      "blocsidesports          1\n",
      "neondistrictrpg         1\n",
      "greenhousegroup         1\n",
      "palmariusdev            1\n",
      "Name: count, Length: 95, dtype: int64\n",
      "Caption: ['Who are #DataScientist and what do they do? >> @MikeQuindazzi >> #MachineLearning #AI #DataAnalytics #DataScienc #DataLake >> https://buff.ly/2kYmF0s'\n",
      " 'We all know where it’s going. We just have to\\xa0#workresponsibly\\xa0to postpone the date. This actually made into a business slide\\xa0#deck\\xa0.#mac\\xa0#macintosh#sayhello\\xa0#apple\\xa0#stevejobs\\xa0#ai\\xa0#evolution#artificialintelligence\\xa0#machinelearning#terminator\\xa0#illbeback\\xa0#technology#computerevolution\\xa0#computerscience#sciencefiction#computersciencetosciencefiction#tomorrowstechnology\\xa0#vr\\xa0#ar\\xa0#robot#robots\\xa0#t2\\xa0#businessdeck\\xa0#businessslides#illustration\\xa0#sketches\\xa0#drawing'\n",
      " 'Alexander Barinov: 4 years as CFO in multinationals, over 10 years of experience as financial advisory in Deloitte & EY, 6 of them as a partner. Focused on strategic management, finance, legal, and compliance. Worked for the global corporations including publicly traded companies. 5 years experience in trading at NYSE and LSE exchanges. #whoiswho\\xa0#aitrading\\xa0#ai\\xa0#aitradingteam#instateam\\xa0#instapeople\\xa0#ai\\xa0#trading#artificialintelligence\\xa0#crypto#cryptocurrency\\xa0#blockchain\\xa0#tradingforex#forex\\xa0#fiatmoney\\xa0#coins\\xa0#machinelearning#userexperience\\xa0#instamachinelearning#instabigdata\\xa0#instamarketing#artificialintelligence\\xa0#deeplearning#datascience\\xa0#industry\\xa0#marketing#bigdata\\xa0#datascience\\xa0#machinelearning#ml'\n",
      " 'sfad'\n",
      " 'Ever missed a call while your phone was charging? Our system can notify you about the incoming call and offer to take it hands free. You’ll be able to walk around the house and carry on your conversation without carrying the phone with you. Listen to music, stream, or watch TV in a seamless flow from one room to another.'\n",
      " 'Cyber attacks are more frequent every day and they can affect businesses of all sizes from all around the world. In the\\xa0#bemasterly\\xa0course, you’ll learn first-hand how to plan ahead and prevent potential attacks, how to detect an attack and importantly how to respond from a legal, public, internal and technical perspective https://buff.ly/2EeE0JS'\n",
      " 'Check it out – we’re walking across the 🌎’s first\\xa0#3DPrintedbridge w/ smart sensors for real-time data in\\xa0#VR\\xa0with\\xa0#ThinkRevolutionist@MX3DBridge\\xa0#NXTBLD\\u2028.'\n",
      " \"Here's a network I made that depicts the scientific collaboration at\\xa0#EPFL. Based on Infoscience, the online archive of publications on the campus, authors are connected if they have co-published a paper.\"\n",
      " \"Having a great week at\\xa0@ldntechweek\\xa0exploring what's new in the world of technology and listening to what the speakers have to say. It's so great, (and interesting!), to see so many people with a passion and common insterest gather on one place to discuss our world's future, and how technology will play it's part. @techxlr8\"\n",
      " 'The Internet of Things : A Very Short Story [#Infographic]\\xa0#Wearable\\xa0#Sensors\\xa0#MachineLearning#IoT\\xa0#BigData\\xa0#DigitalTransformation#futureofwork\\xa0#marketing\\xa0#analytics#bigdata\\xa0#Cloud\\xa0#Blogging#ContentMarketing\\xa0#DigitalMarketing\\xa0ht:\\xa0#BigData\\xa0#MachineLearning\\xa0#AI\\xa0#IoT#infograp'\n",
      " 'Today we are featured in The Future CMO Magazine in\\xa0@thetimes@raconteur_london\\xa0Go get a copy! Read more here: https://www.raconteur.net/sponsored/how-to-use-machine-learning-the-right-way-tool-for-a-new-marketing-paradigm\\xa0'\n",
      " 'The IT industry is rapidly booming. Is your career booming along with it?\\xa0Learn the right technologies to be a part of this fast-growing industry.\\xa0Start free trial towards your dream career here: https://goo.gl/V92v5M'\n",
      " 'Just an average day for a programmer 😖\\xa0#workthroughit\\xa0.'\n",
      " \"Tag him who promised to help you but he doesn't 😒.😂\"\n",
      " 'Do you really need\\xa0#blockchain?'\n",
      " 'I went to DevFest in DC and had so much fun. Heard some great talks and had fun at happy hour watching the robot derby'\n",
      " 'GG, you always have the best T-shirts! 🔥❄️💉\\xa0#codeblooded'\n",
      " \"Let's talk about ML Kit for our Google Play Partners in Mexico!\"\n",
      " 'Shout out to\\xa0#LinkedIn\\xa0for the awesome lunch-n-learn yesterday and hooking us up with all the\\xa0@linkedin\\xa0swag 👕😎 .'\n",
      " '\"It is this perfect accuracy, this lack of play, of variety, that makes the machine-made article so lifeless.\"'\n",
      " 'Live Population in Manhattan (hour-by-hour). Gif credit:\\xa0@citrusvanilla\\xa0.'\n",
      " 'The Various Aspects of Artificial Intelligence we should keep in mind. #Artificial #Intelligence is the new era for technologies to grow our business and provide powerful services.'\n",
      " '“No one buys things from Facebook.” “Instagram is a fad.” “Snapchat will soon be gone.” We didn’t buy into what traditional marketing agencies said and our clients have reaped the benefits. Now, traditional marketers are scrambling to learn what we have been doing for years.At On The Top Search, we don’t quit. Ever. We will go to exhaustive measures to ensure your experience with us has a positive ROI. If not, drop us.'\n",
      " '8.5 billion more #smartphones by 2021 will help democratize #AI around the world >> @Qualcomm via @MikeQuindazzi >> #DeepLearning #MachineLearning#ArtificialIntelligence #IoT #BigData#HealthTech #IIoT #Mobile #Infographics >> http://buff.ly/2xcWSLb'\n",
      " \"Interesting, most of them prefer that because all need high accuracy. Its also implemented in real life problem. It's joke but useful. I believe it most understandable by data science enthusiast. \"\n",
      " \"Keep trying different things and that's what I'm doing today too, trying my hands on raspberry pi. I'm completely new to electronics, haven't played with hardware before, hope this new experience goes well. .This is a simple hello world circuit which allows us to blink a LED and the script to do so is written in python language.Question: Please suggest some resources from where I could learn about electronics and hardware. Answer down in comments section.\"\n",
      " '#Repost @wesabio Sometimes the truth hurts |'\n",
      " 'Instructions unclear... 🤔. Started building two speakers and ended up with two mining rigs 🤦\\u200d♂️'\n",
      " 'Check my profile to find out about more fundamental changes digital currencies are trying to impose on modern world economy.'\n",
      " \"Isn't it funny to think that Bitcoin uses Artificial Scarcity to tackle inflation? - Follow me for more.\"\n",
      " 'Onze Angela en Niek hosten vandaag NextM, hét innovatieve marketingfestival van Nederland!'\n",
      " 'Character feature - The Architect - who wants to\\xa0#cosplay\\xa0this guy!? 🙋🏻\\u200d♀️ Concept art for a high-level, tank-y character class.'\n",
      " '#WorldCup\\xa0is here and BlocSide is bringing back our favorite game just for football\\xa0#fans\\xa0around the world!\\xa0#linkinbio . Play new rounds EVERYDAY and win\\xa0#mvp#tokens!'\n",
      " \"I officially spent the last of my tethers and available liquidity. All one can do now is be patient and remember why you bought Crypto in the first place. Mass adaption and bull run will follow shortly. Stay focused and blessed my fellow Cryptocrackhead's! Will be opening up our Telegram Group to the public soon, so stay tuned... the main event hasn't even begun yet. 😜🚀💰\"\n",
      " 'gsmusicgroupllc#Repost\\xa0@savageland32with\\xa0@get_repost #SkrappdaGawd\\xa0New Music on ALL Platforms'\n",
      " 'Bartosz Kusmierz, Research Scientist at\\xa0#IOTA\\xa0Foundation,spoke at the\\xa0#Wrocław\\xa0#Blockchain\\xa0Meetup yesterday about IOTA!'\n",
      " 'At 12 Noon EST today, BitPainting will be releasing a new work of rare\\xa0#blockchain\\xa0art! From Picasso to Van Gogh, build your iconic art collection on the\\xa0#ethereum\\xa0network!'\n",
      " 'Hello ......You could see the excitement in her face .....one of my client who just cash out and still willing to invest more.Dm me for your trading help'\n",
      " 'As a safety measure for your account, we ask you to enable 2FA security before any withdrawal or sell can be made. Note: withdrawals and sell orders can only be made 24 hours after setting up 2FA. For questions please contact our support channels 👨\\u200d🔧\\xa0#LiteBit'\n",
      " '1 in 3\\xa0#Smartphones\\xa0will ship w/\\xa0#MachineLearning\\xa0and\\xa0#ArtificialIntelligence\\xa0at the chipset level by 2020 >>\\xa0@MikeQuindazzi\\xa0>>\\xa0#IoT\\xa0#AI\\xa02018 Report >> https://buff.ly/2HV0VAQ'\n",
      " \"Together with my colleague Valery we introduced potential partners to\\xa0#Azure\\xa0@spacesworks\\xa0#zuidas. It's great to see there's such an interest in Data & AI, and a lot of fun to come up with new ways to apply it with these companies. 🤓\"\n",
      " 'One rare and remarkable approach in the overheated\\xa0#ai\\xa0market by\\xa0@ibm\\xa0'\n",
      " \"Still on set. 🙃 Can't tell you what it's for!\"\n",
      " 'Well... Allright then?\\xa0Do you agree?😂😂'\n",
      " 'CEBIT 2018: Europas Business-Festival für Innovation und Digitalisierung'\n",
      " 'Greetings from\\xa0#CEBIT2018#Pepper\\xa0is getting ready for\\xa0#afterwork#party\\xa0#festival\\xa0#tradefair\\xa0maybe we get on\\xa0#stage\\xa0with\\xa0#digitalism'\n",
      " 'Today we’re hosting Career Services and Academic advising professionals from across\\xa0@uscedu\\xa0campus and international offices. Today’s topic is on “In the Age of Artificial Intelligence: the Next Generation of Career Services.”'\n",
      " '\"If you can imagine it, you can create it & if you dream it, you can become it \" ~ 🍀🖤. Try out nodemon for running\\xa0#pythonscripts automatically on changes instead of manually restarting everytime ... rock solid 🤖☕👌'\n",
      " 'asdsads'\n",
      " '@pedrodoc82\\xa0and\\xa0@michaely76\\xa0from MBN are working in London today. Great to be talking Data Science, Analytics, Technology with our clients. If you are looking for a new job, register with us - www.mbnsolutions.com/jobs'\n",
      " 'Imagine having access to the data of the air we breathe?'\n",
      " 'Global warming visualised.' 'Lead with the\\xa0#AI\\xa0advantage.'\n",
      " 'Artistes & Robots 🤖⚡️'\n",
      " 'Was invited to speak at the annual Machine Learning conference on the role of Artificial Intelligence in big physics experiments such as LIGO. Much potential for astrophysics to collaborate with Tech giants Google, IBM and other large experiments at CERN.'\n",
      " 'Recently, computer scientists have been working on teaching machines to do a wider range of tasks around the house. In a new paper spearheaded by MIT\\'s Computer Science and Artificial Intelligence Laboratory (CSAIL) and the University of Toronto, researchers demonstrate \"VirtualHome,\" a system that can simulate detailed household tasks and then have artificial \"agents\" execute them, opening up the possibility of one day teaching robots to do such tasks.'\n",
      " 'Reuse trash to create robots!Junkbot Robotic kit enables both kids and adults to build and create robots from junk materials!See link in our bio for more info!'\n",
      " 'Morning swim before the sun is up 🇮🇹☀️'\n",
      " '8.5 billion more #smartphones by 2021 will help democratize #AI around the world >> @Qualcomm via @MikeQuindazzi >> '\n",
      " 'Very impressed by the ingenuity of our PhD students. Great to meet you at @Siemens Young Researcher Forum in Nuremberg! You really drive '\n",
      " 'Every business has data. Are you getting the most you can from yours? Find out how we can help visit OBOTEO.com and ask about our Data Consultancy service Bringing #AI to #DUBAI'\n",
      " 'All black & shiny ✨✨\\xa0'\n",
      " 'On\\xa0the auspicious occasion of Eid, Interplay would like to wish you abundance, happiness, and lots of blessings.'\n",
      " 'Double TAP if you support this message & TAG who would love to motivate, empower and inspire! Follow 👉\\xa0@alpha_mentor_  💡 Turn On Post Notifications To See New Posts. 💡 Share With Friends & Family'\n",
      " 'Acción es la mejor arma 🌏🏰'\n",
      " 'Im limited edition 💁 -------------------------------📣 Donr forget to TURN ON notification ----'\n",
      " 'Life is all about the next step💎'\n",
      " 'Join the international community of forex trading and change your financial situation with knowledge on binary and forex trading\\xa0Grow your investment and smile tomorrow. With such an investment of $500 your guaranteed of making $4835 back as profit in a time frame of 14 days. This is no scam or joke, totally legitimate. DM me now for more info on my trading platform.'\n",
      " 'Have a great weekend all! 💜💜💜' 'Do u agree??'\n",
      " 'Hi\\xa0#cryptomaniac\\xa0friend, this is an advice for you! Do you think different? Do you want an example? Explore our BIO 🇬🇧 🇮🇹 Follow me and I return😍'\n",
      " 'Go get yours now! .'\n",
      " 'Our most selling hand painted kettle!! Order this beautiful kettle now!! .'\n",
      " 'Its a unicorn kind of day 💖.'\n",
      " \"Dude...That's Huge! A Super Massive Lathe!\"\n",
      " 'Nike Air 270. Pocas unidades disponibles. Información DM📥'\n",
      " '“The picture that you took with your camera is the imagination you want to create with reality.”👍 💥Good weekend to everyone 😀'\n",
      " 'Hatsu Veggie Milk 🎯 Ref 02. Piece O1 - 03'\n",
      " 'simple elegance from\\xa0@mumzynotjess\\xa0featuring Illumens ‘Poire 1796’ diffuser. We love seeing our products in your beautiful homes, thank you Jess'\n",
      " \"Apple is looking beyond just TV with a push for animated feature film. Based on appleinsider (ai), the company is in negotiations with Oscar-nominated Irish studio, Cartoon Saloon, known for movie like 'The Secret of Kells' and more. Apple intents to handle distributions and preparing to launch high-budget TV slate sometimes in 2019, as soon as March.\"\n",
      " 'The Peter McKinnon - Created this ridiculous mini cinema rig from left over camera gear. The inspiration came from YouTubers like Peter McKinnon so I named this rig after him. Perfect for filming coffee to making sweet low walking shots and epic selfie videos.'\n",
      " '256/365 - Ski Goggles'\n",
      " 'Love coaching these boys! Hard working, dedicated, and willing to learn. Already one of the best teams in Salford.'\n",
      " 'Living in Texas is easy, even if your standards are high 😎💁\\u200d♂️ //'\n",
      " '4K Ai'\n",
      " 'Last week was pretty busy, so I had no chance to report any news 👨🏻\\u200d💻🙃'\n",
      " 'Picked up this roubo bookstand from my buddy over at\\xa0@holdfastcreations\\xa0and it serves its purpose really well. Got a new book to use it for too, which is also pretty good.\\xa0#theverticaldietfeeds my body, but I still have to feed my mind. Cyber is a beautiful battlefield.'\n",
      " '60% off Lux Light until Monday! Get your copy now @ bit.ly/getluxlight\\xa0⠀⠀⠀⠀'\n",
      " '😂😂'\n",
      " '328 S. Wetherly Drive, Beverly Hills, CA 90212. This beautiful new construction our team completed in early May 2018 was sold before the framing was even started!! I am kidding, but it sure felt that way!'\n",
      " 'Credit\\xa0@tristankappel\\xa0To find more dvlp follow\\xa0@dvlp_search\\xa0New workspace 🖥💻⌨️!'\n",
      " 'We are coming up with the Best 21 Books that will change your mind about Life, Money and Your self Campaign this week!!We will post this books with genuine reviews from Amazon.com ! Hope you will enjoy this and try to read this amazing books!! Stay Tuned !! 😉❤️'\n",
      " 'We’re only paid to move dirt once. It’s not just about excavating but placing it too. If fills aren’t properly planned for and executed, it can lead to moving material a second time which you don’t get paid for. That’s where good managers and operators who envision the final product are key. We’re hiring operators and grade checkers - send us an email at jobs@lb3enterprises.com to apply!'\n",
      " 'Obtén tu tienda en línea ahora.']\n",
      "------------------------\n",
      "Caption\n",
      "\"If you can imagine it, you can create it & if you dream it, you can become it \" ~ 🍀🖤. Try out nodemon for running #pythonscripts automatically on changes instead of manually restarting everytime ... rock solid 🤖☕👌                                                                                                                                                               7\n",
      "Very impressed by the ingenuity of our PhD students. Great to meet you at @Siemens Young Researcher Forum in Nuremberg! You really drive                                                                                                                                                                                                                                             1\n",
      "Have a great weekend all! 💜💜💜                                                                                                                                                                                                                                                                                                                                                        1\n",
      "Join the international community of forex trading and change your financial situation with knowledge on binary and forex trading Grow your investment and smile tomorrow. With such an investment of $500 your guaranteed of making $4835 back as profit in a time frame of 14 days. This is no scam or joke, totally legitimate. DM me now for more info on my trading platform.    1\n",
      "Life is all about the next step💎                                                                                                                                                                                                                                                                                                                                                     1\n",
      "                                                                                                                                                                                                                                                                                                                                                                                    ..\n",
      "Isn't it funny to think that Bitcoin uses Artificial Scarcity to tackle inflation? - Follow me for more.                                                                                                                                                                                                                                                                             1\n",
      "Check my profile to find out about more fundamental changes digital currencies are trying to impose on modern world economy.                                                                                                                                                                                                                                                         1\n",
      "Instructions unclear... 🤔. Started building two speakers and ended up with two mining rigs 🤦‍♂️                                                                                                                                                                                                                                                                                      1\n",
      "#Repost @wesabio Sometimes the truth hurts |                                                                                                                                                                                                                                                                                                                                         1\n",
      "Obtén tu tienda en línea ahora.                                                                                                                                                                                                                                                                                                                                                      1\n",
      "Name: count, Length: 94, dtype: int64\n",
      "Hashtags: ['#MachineLearning #AI #DataAnalytics #DataScienc #DataLake'\n",
      " '\\xa0#deck\\xa0.#mac\\xa0#macintosh#sayhello\\xa0#apple\\xa0#stevejobs\\xa0#ai\\xa0#evolution#artificialintelligence\\xa0#machinelearning#terminator\\xa0#illbeback\\xa0#technology#computerevolution\\xa0#computerscience#sciencefiction#computersciencetosciencefiction#tomorrowstechnology\\xa0#vr\\xa0#ar\\xa0#robot#robots\\xa0#t2\\xa0#businessdeck\\xa0#businessslides#illustration\\xa0#sketches\\xa0#drawing'\n",
      " '#whoiswho\\xa0#aitrading\\xa0#ai\\xa0#aitradingteam#instateam\\xa0#instapeople\\xa0#ai\\xa0#trading#artificialintelligence\\xa0#crypto#cryptocurrency\\xa0#blockchain\\xa0#tradingforex#forex\\xa0#fiatmoney\\xa0#coins\\xa0#machinelearning#userexperience\\xa0#instamachinelearning#instabigdata\\xa0#instamarketing#artificialintelligence\\xa0#deeplearning#datascience\\xa0#industry\\xa0#marketing#bigdata\\xa0#datascience\\xa0#machinelearning#ml'\n",
      " '#iot\\xa0#cre#workplace\\xa0#CDO\\xa0#bigdata\\xa0#technology#tech\\xa0#work\\xa0#computerscience\\xa0#blockchain#softwaredeveloper\\xa0#machinelearning#smartcity\\xa0#artificialintelligence#futureofwork\\xa0#opensource\\xa0#cybersecurity#ai\\xa0#softwareengineer\\xa0#engineering#smartcities\\xa0#developer\\xa0#autonomous#singularity\\xa0#webdeveloper#cryptocurrency\\xa0#programmers\\xa0#crypto#iiot\\xa0#robot'\n",
      " '#instamachinelearning\\xa0#instabigdata#instamarketing\\xa0#artificialintelligence#industry\\xa0#deeplearning\\xa0#datascience#marketing\\xa0#machinelearning\\xa0#bigdata#artificialintelligence\\xa0#instadaily\\xa0#tech#software\\xa0#softwareengineer\\xa0#technology#crea.vision\\xa0#techy\\xa0#artificial\\xa0#artificiale#ipictureoftheday\\xa0#marketingdigital\\xa0#digital#live\\xa0#better\\xa0#enjoy'\n",
      " '#edtech\\xa0#learning#educationtechnology\\xa0#tech #learnnewskills #onlinelearning #teach #study #lifelonglearning #bigdata #chatbot #digitalliteracy #entrepreneurship #entrepreneur #startup #startupaus #studying #entrepreneur #machinelearning #coach #tech#techstartup #blockchain #videocourse #analytics'\n",
      " '.#Tech\\u2028#virtualreality\\u2028#IoT\\u2028#Machinelearning'\n",
      " '#datascientist\\xa0#creativetechnology#design\\xa0#artwork\\xa0#dataartwork\\xa0#dataart#innovation\\xa0#tech\\xa0#startup#machinelearning\\xa0#deeplearning\\xa0#IA\\xa0#data#bigdata\\xa0#modernart\\xa0#contemporaryart#painting\\xa0#datascience'\n",
      " '#LTW\\xa0#London\\xa0#TechXLR8\\xa0#Technology#AI\\xa0#ArtificialIntelligence\\xa0#MachineLearning#Data\\xa0#Future\\xa0#Ethics\\xa0#HumanRights#WomenInTech\\xa0#WomenInSTEM\\xa0#OurWorld#LondonTechWeek\\xa0#EthicalTech#EthicsAndAI'\n",
      " '[#Infographic]\\xa0#Wearable\\xa0#Sensors\\xa0#MachineLearning#IoT\\xa0#BigData\\xa0#DigitalTransformation#futureofwork\\xa0#marketing\\xa0#analytics#bigdata\\xa0#Cloud\\xa0#Blogging#ContentMarketing\\xa0#DigitalMarketing\\xa0ht:\\xa0#BigData\\xa0#MachineLearning\\xa0#AI\\xa0#IoT#infograp'\n",
      " '#artificialintelligence\\xa0#futurism#machinelearning\\xa0#marketing#b2cmarketing\\xa0#thetimes\\xa0#thedrum#hubspot\\xa0#leadgeneration'\n",
      " '#WedenesdayWisdom\\xa0#IndustryInsights#GetSkilledGetHired\\xa0#reskill\\xa0#careergoals#DataScience\\xa0#MachineLearning#MeanStack\\xa0#WebDevelopment#careergrowth\\xa0#technology\\xa0#futuretrends#software\\xa0#startup\\xa0#GetSkilled\\xa0#GetHired#edWisor\\xa0#DreamJob'\n",
      " '#webdevelopment\\xa0#coding\\xa0#programming#codinglife\\xa0#code\\xa0#100daysofcode\\xa0#java#programmerhumor\\xa0#javascript\\xa0#html#cursosbarcelona\\xa0#berlin\\xa0#css#datascience\\xa0#stem\\xa0#workgoals#officegoals\\xa0#learning\\xa0#machinelearning#getitdone\\xa0#anotherday\\xa0#instagood#dataanalysis\\xa0#education\\xa0#motivation#barcelona\\xa0#careers\\xa0#careeradvice'\n",
      " '#artificialintelligence\\xa0#ai#machinelearning#deeplearning\\xa0#algorithm\\xa0#algorithms\\xa0#cs#ml\\xa0#blockchain\\xa0#sopia#robots\\xa0#project#aiproject#tag#it#boats#artificialintelligenceai\\xa0#github\\xa0#data\\xa0#python\\xa0#R\\xa0#coding#programming\\xa0#coder\\xa0#programmer'\n",
      " '#blockchaintechnology\\xa0#blockchains\\xa0#tech#technology\\xa0#IoT\\xa0#InternetOfThings#Bitcoin\\xa0#business\\xa0#businessintelligence#BI\\xa0#AI\\xa0#ArtificialIntelligence\\xa0#ML#MachineLearning\\xa0#infographic\\xa0#DL#DeepLearning\\xa0#data\\xa0#bigdata#datascience'\n",
      " '#google\\xa0#Android#machinelearning\\xa0#womenwhocode#devfestdc\\xa0#gdg'\n",
      " '#Eligible\\xa0#EligibleAPI\\xa0#HealthCare#HealthCareTech\\xa0#HealthIT\\xa0#engineering#Programming\\xa0#Code\\xa0#Software\\xa0#API#HIPAA\\xa0#AI\\xa0#MachineLearning#DeepLearning\\xa0#Tech\\xa0#StartupLife#DataScience\\xa0#security\\xa0#Compliance'\n",
      " '#MxPartnerDay\\xa0#MLKit\\xa0#machinelearning#android\\xa0#google\\xa0#googleplay'\n",
      " '#engineer\\xa0#machinelearning\\xa0#automotive#automation\\xa0#machinery\\xa0#engineering#engineers\\xa0#wbe\\xa0#careers\\xa0#jobs#technology\\xa0#robotics\\xa0#robots\\xa0#cnc\\xa0#ai#machines\\xa0#manufacturing\\xa0#wcw#puremichigan\\xa0#staffing'\n",
      " '#newread\\xa0#whattoread\\xa0#summerreads#nowreading\\xa0#readingislife\\xa0#bookworm#booknerds\\xa0#writt\\xa0#writtorg\\xa0#wellread#bookreco\\xa0#bookrecommendations#whatareyoureading\\xa0#igbooks\\xa0#igreads#bookclub\\xa0#bookalicious\\xa0#classicliterature#classicbooks\\xa0#bestquotes\\xa0#quotes#goodreads\\xa0#bookaddict\\xa0#bookoftheday#quoteoftheday\\xa0#machinelearning#machines\\xa0#creativity\\xa0#art'\n",
      " '\\xa0#datascience\\xa0#data\\xa0#tech\\xa0#technology#future\\xa0#machinelearning\\xa0#ai#visualizations\\xa0#dataisbeautiful'\n",
      " '#Artificial #Intelligence #AI #MachineLearning #DeepLearning #Robotics #BigData #Dataviz #Analytics #SMM #IoT #Sensors #Xotiv #NLP #datascience #graph #graphanalysis #visualisation #image #analytics #imageanalytics #coder #software #business #Development'\n",
      " '#digitalmarketing #machinelearning#entrepreneurship #businessminded#fourthofjuly'\n",
      " '#DeepLearning #MachineLearning#ArtificialIntelligence #IoT #BigData#HealthTech #IIoT #Mobile #Infographics #smartphones #AI'\n",
      " '#data_enthusiast #dataanalytics#datascientist #datascience #algorithm#deeplearning #machinelearning #ai#traditional #learning #neuralnetworks#aspiringdatascientist #followyourownpath'\n",
      " '#development #react #vue #angular#software #javascript #html5 #nodejs#wordpress #teamtreehouse #worldcode#freecodecamp #css #hustle#eduacteyourself #machinelearning#codeuniverse #codegang #selftaught#365daysofcode #100daysofcode#curryandcode #webdev #codelife#webapp'\n",
      " '#Repost #Javascript #ReactJS #Ruby #GDPR #Graduation #Mobile#VueJS #JQuery #Developers #Programmers #JS #Gift #Dev #ArtificialIntelligence #MachineLearning #Linux#Humour #Humor #Fintech #API #Sysadmin #ML #WomenInTech #Ubuntu #Security#IIOT #Hackers #TechHumor'\n",
      " '#theminest\\xa0#miningrig\\xa0#gpumining#bitcoinmining\\xa0#bitcoin\\xa0#bitcoinmemes#cryptolife\\xa0#cryptomemes\\xa0#cryptomining#ethereum\\xa0#litecoin\\xa0#cryptonews\\xa0#altcoins#hodl\\xa0#hodlgang\\xa0#investinyourself#blockchain\\xa0#crypto\\xa0#miningfarm#ethereummining\\xa0#litecoinmining#bitcointrading\\xa0#bitcoinexchange\\xa0#bitcoins#coinbase'\n",
      " '#Bitcoin\\xa0#Cryptocurrency#Ethereum\\xa0#stockmarket\\xa0#currencytrading#digitalmarketing\\xa0#litecoin\\xa0#Currency\\xa0#ico#token\\xa0#mining\\xa0#BitcoinExchange#Blockchain\\xa0#money\\xa0#community\\xa0#crypto#CryptoExchange\\xa0#fiat\\xa0#forex\\xa0#altcoin#stocks\\xa0#profit\\xa0\\xa0#investor\\xa0#investment#trader#forextrader\\xa0#nyse\\xa0#broker\\xa0#forexnews#forexanalysis'\n",
      " '#nextmnl#groupm\\xa0#greenhousegroup\\xa0#eindhoven#effenaar\\xa0#Innovation\\xa0#marketingfestival#artificialintelligence\\xa0#voice#conversationalmarketing\\xa0#blockchain'\n",
      " '#cosplay#gamerguy\\xa0#conceptart\\xa0#cryptocurrency#handdrawn\\xa0#digitalart\\xa0#rpg\\xa0#pcgamer#comingsoon\\xa0#videogames\\xa0#cryptogame#cyberpunk\\xa0#armor\\xa0#scifi\\xa0#dystopia#games\\xa0#blockchain\\xa0#instagamer#neondistrict\\xa0#degen\\xa0#themainspring'\n",
      " '#sports\\xa0#football\\xa0#footy\\xa0#footballfans#footballplayer\\xa0#soccer\\xa0#soccerfans#soccerlife\\xa0#fifa\\xa0#fifa18\\xa0#fifaworldcup#blockchain\\xa0#spottheball\\xa0#gametime#fifagame\\xa0#playtowin\\xa0#play\\xa0#eyeontheprize#tech\\xa0#technology'\n",
      " '#cryptocrackhead#blockchain#cryptocurrency\\xa0#crypto\\xa0#decentralise#bitcoin\\xa0#ethereum\\xa0#ripple\\xa0#dash#bitcoincash\\xa0#monero\\xa0#eos\\xa0#cardano\\xa0#tron#fiat\\xa0#millionaire\\xa0#trading\\xa0#altcoins\\xa0#money#future\\xa0#biitcoinaire\\xa0#gains\\xa0#funny#currency\\xa0#coinbase\\xa0#freedom\\xa0#binance#virtual\\xa0#ai\\xa0#coins'\n",
      " '#youtube\\xa0#applemusic\\xa0#itunes#soundcloud\\xa0#spinrilla\\xa0#spotify\\xa0#bigdata#blockchain\\xa0#dontbandwagonlater'\n",
      " '#IOTA #Wroclaw #Blockchain' '#blockchain #ethereum'\n",
      " '#любовь\\xa0#gm\\xa0#sme\\xa0#smenigeria\\xa0#profits#businessowners\\xa0#businessplan#entrepreneurship\\xa0#entrepreneur#blockchain\\xa0#crypto\\xa0#cointelegraph#bitcoinprice\\xa0#mining\\xa0#cryptocurrencies#bch\\xa0#bitcoins\\xa0#litecoin\\xa0#investment#investor\\xa0#stockmarket\\xa0#stocks\\xa0#getrich#makemoney\\xa0#makemoneyonline#mentorship\\xa0#mentoring\\xa0#xrp\\xa0#bitfinex#altcoins'\n",
      " '#bitcoin\\xa0#litecoin\\xa0#blockchain#cryptocurrency\\xa0#ripple\\xa0#coins\\xa0#tech#litebiteu\\xa0#ethereum\\xa0#reddcoin\\xa0#verge #Litebit'\n",
      " '#MachineLearning #artificialintelligence#AI #IoT'\n",
      " '#techtaster\\xa0#datagirl#womanintech\\xa0#technicalevangelist#technicalevangelism\\xa0#datascientist#datascience\\xa0#datagirl\\xa0#ai#artificialintelligence\\xa0#advancedanalytics#cognitiveservices\\xa0#faceAPI\\xa0#demo#everydaytechday\\xa0#womeninmicrosoft#womenintech\\xa0 #luis\\xa0#azureML#cognitiveservices\\xa0#datainsights#microsoftpartner'\n",
      " '#ai #artificialintelligence' '#artificialintelligence'\n",
      " '#quote\\xa0#quotes\\xa0#quoteoftheday#quoteoftheday\\xa0#quotesoftheday#quoted\\xa0#quotedaily\\xa0#quotegram#quotesdaily\\xa0#quoteslife\\xa0#quotetoday#quotesofinstagram\\xa0#quotefortheday#quotesforyou\\xa0#artificial#artificialintelligence\\xa0#meme\\xa0#memes#funnymeme\\xa0#funnymemes\\xa0#memesdaily#inspiring\\xa0#funnyquote\\xa0#funnyquotes#funnypost\\xa0#funnypic\\xa0#ridiculous\\xa0#wtfisthis'\n",
      " '#cebit18\\xa0#cebit\\xa0#hannover\\xa0#cebit2018#ceyouinabit\\xa0#messehannover#hannovermesse\\xa0#artificialintelligence#künstlicheintelligenz\\xa0#informatik'\n",
      " '#hannover\\xa0#cebit#digitalisierung\\xa0#entrancegmbh\\xa0#wuppertal#startup\\xa0#iot\\xa0#AI\\xa0#artificialintelligence'\n",
      " ' #AI #machinelearning #artificialintelligence #careerservices #studentlearning'\n",
      " '#worldcode\\xa0#coding#python\\xa0#codeaholics\\xa0#rstudio\\xa0#codinglife#worldofprogrammers\\xa0#datascience#machinelearning\\xa0#dataviz\\xa0#data\\xa0#statistics#macbookpro\\xa0#peoplewhocode#codeismylife\\xa0#datavisualization#artificialintelligence\\xa0#digitalnomads#digitalnomad\\xa0#travel'\n",
      " '#IoT\\xa0#CyberSecurity\\xa0#BigData#infosec\\xa0#DigitalTransformation\\xa0#AI#Security\\xa0#Healthcare\\xa0#mobile\\xa0#Analytics#tech\\xa0#innovation\\xa0#TechNews\\xa0#Defstar5#artificialintelligence\\xa0#Infographics#BigData\\xa0#CIO\\xa0#blockchain\\xa0#chatbots#startups\\xa0#robots\\xa0#robotics\\xa0#startup\\xa0#ml#machinelearning\\xa0#artificialintelligence'\n",
      " '#machinelearning\\xa0#artificialintelligence#blockchain\\xa0#data\\xa0#datascience\\xa0#analytics#technology\\xa0#london\\xa0 #hiring'\n",
      " '#blockchain\\xa0#tech\\xa0#startups\\xa0#projetos#linux\\xa0#ethereum\\xa0#programmer#InternetdasCoisas\\xa0#smartcontract#internetofthings\\xa0#technology\\xa0#disruption#mobile\\xa0#nodemcu\\xa0#hyperledger\\xa0#chain#programming\\xa0#smartcontracts#hyperledgerfabric\\xa0#artificialintelligence#iot\\xa0#fintech\\xa0#industry40\\xa0#cloud#mobilelegends\\xa0#drones#personaldevelopment\\xa0#healthy'\n",
      " '#data\\xa0#bigdata\\xa0#datavisualization#datascience\\xa0#artificialintelligence'\n",
      " '#HR\\xa0#workplace#officedesign\\xa0#iot\\xa0#bigdata\\xa0#office#facilitymanagement\\xa0#technology#realestate\\xa0#tech\\xa0#work\\xa0#futureofwork#computerscience\\xa0#officespace\\xa0#facility#smartcity\\xa0#artificialintelligence#opensource\\xa0#softwareengineer#workplacedesign\\xa0#smartcities#autonomous\\xa0#singularity\\xa0#iiot\\xa0#CEO#csuite\\xa0#employeeengagement#employeeexperience\\xa0#CHRO#businessowner'\n",
      " '#AI\\xa0#machinelearning\\xa0#auto#realtors\\xa0#tech#fitness\\xa0#socialselling#artificialintelligence#local\\xa0#sanantonio#realestate\\xa0#socialmedia#business\\xa0#sa#generator\\xa0#car\\xa0#innovation#cardealers#entrepreneurs\\xa0#COO\\xa0#app#sales\\xa0#ML'\n",
      " '#digitalart\\xa0#artedigital\\xa0#paris\\xa0#technology#data\\xa0#visualart\\xa0#exhibition\\xa0#multimedia#tecnologia\\xa0#lighting\\xa0#visualcontent#lavillete\\xa0#interactive\\xa0#science\\xa0#creativity#creatividad\\xa0#grandpalais#artistesandrobots\\xa0#artificialintelligence#inteligenciaartificial\\xa0#ai\\xa0#robots\\xa0#robotics#machine\\xa0#orlan\\xa0#ryojiikeda\\xa0#immersive#electronicarts\\xa0#perception\\xa0#hybrid'\n",
      " '#artificialintelligence\\xa0#machinelearning#bigdata\\xa0#supercomputer\\xa0#science#astrophysics\\xa0#astronomy\\xa0#einstein#relativity\\xa0#theoryofrelativity\\xa0#georgiatech#computerscience\\xa0#blackhole\\xa0#universe#cosmos'\n",
      " '#bitcoin #ethereum #BTC#fun #Profit #success #business#motivation #rich #economy#cryptocurrency #news #fact #news#quotes #quote #Google #robot #laugh#ArtificialIntelligence #MachineLearning#DeepLearning #AI #Technology #Robotics#News #Facts #Fact #Startup #Joke'\n",
      " '#junkbot #edukit #superbots #robotickits#arduino #parents #education#tipsforparents #kids #learn #recycle #code#design #innovate #invent #steameducation#technology #uae #dubai #robotics#buildyourownrobot #diyrobot#trashtotreasure #diy #artificialintelligence#robotfromjunk #stem'\n",
      " ' #livinginitaly #tuscanyitaly#summerinitaly🇮🇹 #startup #startuplife#artificialintelligence #algorithm#voicebiometrics #myvoiceai'\n",
      " '#Innovation in #Connectivity #EdgeDevices#EnergyStorage #EnergyDistribution #DataAnalytics #ArtificialIntelligence'\n",
      " '#AI #DUBAI #artificialintelligence #neuralnetworks #datascience #bots #machinelearning #naturallanguageprocessing #dubai'\n",
      " '#allblackeverything\\xa0#applewatch#applewatchseries3\\xa0#38mm\\xa0#swarovski#pandora\\xa0#weekendvibes\\xa0#style\\xa0#fashion#tech\\xa0#startup'\n",
      " '#Interplay\\xa0#EidMubarak\\xa0#EidulFitr\\xa0#Eid#Eidblessings\\xa0#EidBliss#EidSaeed\\xa0#Eid2018#DigitalMarketingAgency\\xa0#SocialMedia#digitalmarketing\\xa0#onlinemarketing#startup\\xa0#creativeagency\\xa0#growdigitally'\n",
      " '#mentoring\\xa0#enterprenuership\\xa0#grind#hustle\\xa0#learn\\xa0#education\\xa0#startup#dreamwork\\xa0#successquotes\\xa0#build#empire\\xa0#startuplife\\xa0#businessowners#ambition\\xa0#dreams\\xa0#goals\\xa0#lifegoals#goforit\\xa0#nevergiveup\\xa0#sucessmindset#businesswoman\\xa0#businessman#businesslife\\xa0#enterpreneurlifestyle#goodlife\\xa0#motivated\\xa0#enterpreneurmindset#millionairemindset'\n",
      " '#moneymaker\\xa0#startup\\xa0#entrepreneurlife#entrepreneurs\\xa0#entrepreneurlifestyle#entrepreneurship\\xa0#onlinemarketing#motivational\\xa0#millionairemindset#successful\\xa0#millionairelifestyle#businesswoman\\xa0#inspiredaily#businessman\\xa0#founder\\xa0#businessowner#youngentrepreneur\\xa0#startuplife\\xa0 #igersperu#discoverperu\\xa0#sudamerica\\xa0#ig_peru_#experienceperu\\xa0#exploreperu\\xa0 #focalmarked #motivation\\xa0#tbt\\xa0#followme'\n",
      " 'thebeautymindset#businessman#quoteoftheday\\xa0#businessowner#businesswoman\\xa0#success\\xa0#grind#motivation\\xa0#motivational\\xa0#lifestyle#happiness\\xa0#entrepreneurs#entrepreneurlife\\xa0#business #working\\xa0#founder#startup\\xa0#money\\xa0#magazine\\xa0#moneymaker#startuplife #successful\\xa0#passion\\xa0#inspiredaily#hardwork\\xa0#hardworkpaysoff\\xa0#desire'\n",
      " '#entrepreneur\\xa0#entrepreneurial#entrepreneurmindset\\xa0#fametags#entrepreneurship\\xa0#entrepreneurslife#entrepreneurs\\xa0#entrepreneurquotes#entrepreneurlifestyle\\xa0#business#businessowner\\xa0#ceo\\xa0#boss\\xa0#top\\xa0#high#rich\\xa0#success\\xa0#hustle\\xa0#luxury\\xa0#millionaire#billionaire\\xa0#lifegoals\\xa0#motivational\\xa0#goals#grind\\xa0#ambition\\xa0#startup\\xa0#mindset#achive\\xa0#hardwork'\n",
      " '#Entrepreneur#Business#Entrepreneurship#WontStop#Mindset#Success#Hustle#Freedom#BusinessOwner#OnlineBusiness#Coaching#Ambition#Inspire#ThinkBig#Startup#HardWork#Businessman#BeYourOwnBoss#SmallBusiness#Believe#Motivate#Mentor\\xa0or\\xa0#mentoring#Givingback#InternetBusiness#Successe'\n",
      " '#forex\\xa0#rich\\xa0#wealth\\xa0#millionaire\\xa0#invest#wallstreet\\xa0#business\\xa0#entrepreneurs#startup\\xa0#startups\\xa0#startuplife\\xa0#technology#tech\\xa0#digital\\xa0#computer\\xa0#gadget\\xa0#gadgets#geek\\xa0#geeks\\xa0#media\\xa0#newslol\\xa0#books#reading\\xa0#read\\xa0#entrepreneurship#businessman\\xa0#reader\\xa0#marketingdigital#goodreads\\xa0#seo'\n",
      " '#weekend\\xa0#chill\\xa0#chilling\\xa0#Summer#founder\\xa0#startup\\xa0#smallbusiness\\xa0#smallbiz#contentmarketing\\xa0#consulting'\n",
      " '#businesspassion#business\\xa0#toptags\\xa0#entrepreneurship#grind\\xa0#hustle\\xa0#learn\\xa0#education\\xa0#startup#success\\xa0#successquotes\\xa0#build#startuplife\\xa0#businessowners\\xa0#ambition#dream\\xa0#goals\\xa0#lifegoals\\xa0#goforit#nevergiveup\\xa0#successmindset#businessman\\xa0#businesswoman#businesslife\\xa0#entrepreneurlifestyle#goodlife\\xa0#entrepreneur\\xa0#motivated#businessowners\\xa0#motivation'\n",
      " '#qoute\\xa0#success#motivation\\xa0#entrepreneur\\xa0#inspiration#startup\\xa0#follow\\xa0#read'\n",
      " '#bitcoinsuperstar\\xa0#tonylocorriere#blockchain\\xa0#hodl\\xa0#hold\\xa0#market\\xa0#crypto#now\\xa0#wallet\\xa0#product'\n",
      " '#product\\xa0#moderndesign\\xa0#concept#designing\\xa0#designs\\xa0#interiorarchitecture#designers\\xa0#prototype\\xa0#instadesign#menswear\\xa0#ootdmen\\xa0#lookoftheday#snobshots\\xa0#streetwear\\xa0#urbanfashion#fashiondiaries\\xa0#menwithstreetstyle#menstyle\\xa0#fashionkiller\\xa0#fashiongram#weloveatl\\xa0#whyiloveatl\\xa0#discoveratl#atlantacollective\\xa0#igersatlanta#atlantasnaps\\xa0#dji\\xa0#djimavic\\xa0#dronestagram#drones'\n",
      " '#rareplanet\\xa0#shopatrareplanet\\xa0#India#indiangood\\xa0#kolkata\\xa0\\xa0#calcutta#handpainted\\xa0\\xa0#homedecor\\xa0#gifts#terracotta\\xa0#kettles\\xa0#product #likesforfollow\\xa0#like4like\\xa0#instalike#like4likeback\\xa0#likes4tags'\n",
      " '#cookie\\xa0#cookier\\xa0#baking\\xa0#icing\\xa0#flooding#creativeprocess\\xa0#treats\\xa0#sweet\\xa0#sets#product\\xa0#cute\\xa0#yummy\\xa0#flornasweets#bakery\\xa0#smallbusiness\\xa0#colourful\\xa0#bbq'\n",
      " '#exklusive_shot\\xa0#trb_autozone#carsofinstagram\\xa0#automotivegramm#carstagram\\xa0#ptk_vehicles\\xa0#classiccars#automotivedaily\\xa0#visualoflife\\xa0#product#moderndesign\\xa0#concept\\xa0#designing#designs\\xa0#interiorarchitecture\\xa0#designers#prototype\\xa0#instadesign\\xa0#designporn#innovation\\xa0#incredibleindia#photographers_of_india\\xa0#indiagram#storiesofindia\\xa0 #indiaclicks\\xa0#androidography#androidnesia\\xa0#abstract\\xa0#industry'\n",
      " '#gear\\xa0#mensfashion\\xa0#womenfashion\\xa0#lids#product\\xa0#newfamily\\xa0#import\\xa0#export#borondo\\xa0#power\\xa0#powerlifting\\xa0#snapback#luxury\\xa0#holiday\\xa0#custom\\xa0#crossfit\\xa0#bogota#bogotagym\\xa0#bogotacolombia\\xa0#bogotadc#starkgym\\xa0#fitlife\\xa0#candy\\xa0#sponsor#followforfollow\\xa0#follow4follow'\n",
      " '#Designer\\xa0#style\\xa0#artist#brand\\xa0#logo\\xa0#monogram\\xa0#corporate#identity\\xa0#lifestyle\\xa0#pure\\xa0#luxury\\xa0#product#posh\\xa0#london\\xa0#paris\\xa0#milan\\xa0#newyork#dubai\\xa0#sydney\\xa0#melbourne\\xa0#mumbai#dublin\\xa0#dubai\\xa0#cosmetics\\xa0#fashion\\xa0#art#artdirector\\xa0#creativity\\xa0#creative\\xa0#colour#abstract'\n",
      " '#roamtheplanet\\xa0#travelphotography#visualoflife\\xa0#beachlife\\xa0#dametraveler#artofvisuals\\xa0#islandhopping#flashesofdelight\\xa0#thecreative\\xa0#product#moderndesign\\xa0#concept\\xa0#designing#designs\\xa0#interiorarchitecture\\xa0#designers#prototype\\xa0#instadesign\\xa0#designporn#innovation\\xa0#igersmiami\\xa0#miaexplore#miamiphotographer\\xa0#ig_miami#roamflorida\\xa0#lifestyle_miami\\xa0#panasonic#lumix\\xa0#panasoniclumix\\xa0#gh5'\n",
      " '#hatsu\\xa0#hatsulovers\\xa0#design\\xa0#artdirection#setdesign\\xa0#fun\\xa0#colors\\xa0#veggie\\xa0#milk#alejandroherrada\\xa0#cinema4d#hatsuveggiemilk\\xa0#product\\xa0#graphicdesign#3d\\xa0#box\\xa0#diseñocolombiano\\xa0#cgi\\xa0#fun#colors\\xa0#veggie\\xa0#milk'\n",
      " '#repost\\xa0#interiors#white\\xa0#elegant\\xa0#simple\\xa0#minimal#poire1796\\xa0#scentyourhome#illumensfragrance\\xa0#loveillumens#whiteblog\\xa0#product\\xa0#whiteinteriors\\xa0#home'\n",
      " '#tvOS\\xa0#Apple\\xa0#AppleNews\\xa0#AppleDesign#WWDC\\xa0#WWDC18\\xa0#WWDC2018#applewatch\\xa0#iphone\\xa0#tv\\xa0#2018\\xa0#ios12#interesting\\xa0#concepts\\xa0#iphonese#iphonese2\\xa0#product\\xa0#notconfirmed#budget\\xa0#unknown\\xa0#cartoon\\xa0#high#instagram'\n",
      " '#pmbrollchallenge\\xa0#Canon#Atomos\\xa0#Panasonic\\xa0#Movo\\xa0#MovoVXR10#Sony\\xa0#CanonLegriaMiniX\\xa0#LegriaMiniX#Cine\\xa0#Luts\\xa0#Canada\\xa0#SmallRig\\xa0#product#moderndesign\\xa0#concept\\xa0#designing#designs\\xa0#interiorarchitecture#magnumphotos\\xa0#streetlife\\xa0#documentary#exploreaustralia\\xa0#australiagram#ilovesydney\\xa0#canonphotos\\xa0#canoneos'\n",
      " 'monde_informatique#client\\xa0#project#product\\xa0#projectmanager'\n",
      " '#sketchaday\\xa0#sketching\\xa0#sketchbook#sketch\\xa0#drawing\\xa0#art\\xa0#illustration\\xa0#marker#rendering\\xa0#touch\\xa0#photography#photooftheday\\xa0#picture\\xa0#picoftheday#instagood\\xa0#instasketch\\xa0#like\\xa0#love\\xa0#follow#industrialdesign\\xa0#productdesign\\xa0#product#design\\xa0#ideation\\xa0#tools\\xa0#instilldesign'\n",
      " '#grassroots\\xa0#development#kidsplayingfootball\\xa0#kidslearning#kidshavingfun\\xa0#manchesterfa\\xa0#salford#delasalletournament\\xa0#monton\\xa0#properclub#doingthingstherightway\\xa0#montonsports#u6s\\xa0#newgeneration'\n",
      " '#frisco#dallas\\xa0#dfw\\xa0#texas\\xa0#newconstruction#economy\\xa0#development\\xa0#landscaping#design\\xa0#ivoteyes'\n",
      " '#INME\\xa0#inmemovement#indianeedsmoreentrepreneurs#entrepreneurindia\\xa0#entrepreneur#entrepreneurlife\\xa0#entrepreneurship#bigthings\\xa0#life\\xa0#startups\\xa0#business#startup\\xa0#movement\\xa0#knowledge#development\\xa0#india\\xa0#join'\n",
      " '#developer\\xa0#coding\\xa0#programmer\\xa0#javascript\\xa0#programming\\xa0#software\\xa0#php#webdeveloper\\xa0#computerscience\\xa0#html\\xa0#css\\xa0#webdevelopment\\xa0#java\\xa0#coder\\xa0#html5#webdev\\xa0#backend\\xa0#programmers\\xa0#softwaredeveloper\\xa0#softwareengineering\\xa0#python#webdesign\\xa0#frontend\\xa0#development\\xa0#css3\\xa0#wordpress\\xa0#code\\xa0#webdesigner\\xa0#js'\n",
      " '#design\\xa0#instaphoto\\xa0#inspiration#premierpro\\xa0#oreo\\xa0#videoediting\\xa0#isetups#aftereffects\\xa0#color\\xa0#colorcombination#work\\xa0#workspace\\xa0#development#hardwork\\xa0#dayout\\xa0#krakow\\xa0#programming#illustration\\xa0#photographer\\xa0#photo\\xa0#life#likeforlikes\\xa0#likeforfollow\\xa0#followme#folow4folow\\xa0#goodday\\xa0#goodweek'\n",
      " '#cybersecurity\\xa0#programmer\\xa0#development#nerd\\xa0#mentalfitness'\n",
      " '#android\\xa0#design\\xa0#development#benasdzimidas\\xa0#graphicdesign\\xa0#launcher#customisation\\xa0#material\\xa0#flat\\xa0#flatshadow#iconography\\xa0#ui\\xa0#ux\\xa0#graphicdesigner#graphicdesign\\xa0#photoshop\\xa0#illustrator#adobe\\xa0#color\\xa0#vector\\xa0#creative\\xa0#follow#wallpaper\\xa0#wallpapers\\xa0#androidwallpaper#photography\\xa0#minimal\\xa0#architecture\\xa0#text#sale'\n",
      " '#html\\xa0#html5\\xa0#webdeveloper#websitedesign\\xa0#htmlcss\\xa0#web#development\\xa0#developer\\xa0#code#programming'\n",
      " '#beverlyhills\\xa0#realestate#losangelesrealestate\\xa0#gc&management\\xa0#standardoil\\xa0#standardoilrealty#luxuryrealestate\\xa0#luxurydesign#losangeles\\xa0#designer\\xa0#development#homes\\xa0#interiordesign\\xa0#hustle#luxurylifestyle'\n",
      " '#workspace\\xa0#work\\xa0#developer#development\\xa0#developerlife\\xa0#apple\\xa0#imac#macbook\\xa0#macbookpro\\xa0#blackandwhite#coder\\xa0#code\\xa0#coding\\xa0#html\\xa0#css\\xa0#php#wordpress\\xa0#javascript\\xa0#dvlp_search\\xa0#linux#ubuntu\\xa0#webdeveloper\\xa0#webdev#webdevelopment\\xa0#dev\\xa0#coder\\xa0#coding#code'\n",
      " '#books\\xa0#book\\xa0#motivation\\xa0#inspiration\\xa0#life#booklover\\xa0#lifebook2018\\xa0#love\\xa0#finance#personality\\xa0#training\\xa0#growth#development\\xa0#musthave\\xa0#instadaily#trending\\xa0#sales\\xa0#happy\\xa0#knowledge#knowledgeispower\\xa0#amazon\\xa0#fiction\\xa0#scifi#hotsale\\xa0#art\\xa0#biography\\xa0 #autobiography#selfhelp\\xa0 #offers'\n",
      " '#heavyequipment\\xa0#underconstruction#dozer\\xa0#realestate\\xa0#bluecollar\\xa0#D10#ibuildamerica\\xa0#earthmover\\xa0#caterpillar#demolition\\xa0#mining\\xa0#dumptruck\\xa0#builtforit#truck\\xa0#trucks\\xa0#underconstruction#engineering\\xa0#ironworker\\xa0#construction#developer\\xa0#dirt\\xa0#constructionworker#safety\\xa0#madeinamerica\\xa0#excavator#civilengineering\\xa0#quarry\\xa0#Americanmade#development\\xa0#operator'\n",
      " '#marketing\\xa0#programming#development\\xa0#desarrollo\\xa0#webdesign#diseñoweb\\xa0#frontend\\xa0#backend\\xa0#apps#app\\xa0#mobileapps\\xa0#aplicaciones\\xa0#españa#panama\\xa0 #argentina\\xa0#chile\\xa0#uruguay#digitalmarketing\\xa0#socialmedia#ecommerce\\xa0#tiendaonline\\xa0#design#startup\\xa0#emprender\\xa0#website\\xa0#paginaweb#followme\\xa0#work\\xa0#business\\xa0#empresa']\n",
      "------------------------\n",
      "Hashtags\n",
      "#DeepLearning #MachineLearning#ArtificialIntelligence #IoT #BigData#HealthTech #IIoT #Mobile #Infographics #smartphones #AI                                                                                                                                                                                                                                                                           2\n",
      "#Bitcoin #Cryptocurrency#Ethereum #stockmarket #currencytrading#digitalmarketing #litecoin #Currency #ico#token #mining #BitcoinExchange#Blockchain #money #community #crypto#CryptoExchange #fiat #forex #altcoin#stocks #profit  #investor #investment#trader#forextrader #nyse #broker #forexnews#forexanalysis                                                                                    2\n",
      "#MachineLearning #AI #DataAnalytics #DataScienc #DataLake                                                                                                                                                                                                                                                                                                                                             1\n",
      "#moneymaker #startup #entrepreneurlife#entrepreneurs #entrepreneurlifestyle#entrepreneurship #onlinemarketing#motivational #millionairemindset#successful #millionairelifestyle#businesswoman #inspiredaily#businessman #founder #businessowner#youngentrepreneur #startuplife  #igersperu#discoverperu #sudamerica #ig_peru_#experienceperu #exploreperu  #focalmarked #motivation #tbt #followme    1\n",
      "#bitcoinsuperstar #tonylocorriere#blockchain #hodl #hold #market #crypto#now #wallet #product                                                                                                                                                                                                                                                                                                         1\n",
      "                                                                                                                                                                                                                                                                                                                                                                                                     ..\n",
      "#sports #football #footy #footballfans#footballplayer #soccer #soccerfans#soccerlife #fifa #fifa18 #fifaworldcup#blockchain #spottheball #gametime#fifagame #playtowin #play #eyeontheprize#tech #technology                                                                                                                                                                                          1\n",
      "#cosplay#gamerguy #conceptart #cryptocurrency#handdrawn #digitalart #rpg #pcgamer#comingsoon #videogames #cryptogame#cyberpunk #armor #scifi #dystopia#games #blockchain #instagamer#neondistrict #degen #themainspring                                                                                                                                                                               1\n",
      "#nextmnl#groupm #greenhousegroup #eindhoven#effenaar #Innovation #marketingfestival#artificialintelligence #voice#conversationalmarketing #blockchain                                                                                                                                                                                                                                                 1\n",
      "#theminest #miningrig #gpumining#bitcoinmining #bitcoin #bitcoinmemes#cryptolife #cryptomemes #cryptomining#ethereum #litecoin #cryptonews #altcoins#hodl #hodlgang #investinyourself#blockchain #crypto #miningfarm#ethereummining #litecoinmining#bitcointrading #bitcoinexchange #bitcoins#coinbase                                                                                                1\n",
      "#marketing #programming#development #desarrollo #webdesign#diseñoweb #frontend #backend #apps#app #mobileapps #aplicaciones #españa#panama  #argentina #chile #uruguay#digitalmarketing #socialmedia#ecommerce #tiendaonline #design#startup #emprender #website #paginaweb#followme #work #business #empresa                                                                                         1\n",
      "Name: count, Length: 98, dtype: int64\n",
      "Time since posted: ['11 hours' '2 hours' '3 hours' '4 hours' '7 hours' '8 hours' '9 hours'\n",
      " '5 hours' '20 hours' '14 hours' '24 hours']\n",
      "------------------------\n",
      "Time since posted\n",
      "2 hours     57\n",
      "3 hours     19\n",
      "4 hours     13\n",
      "7 hours      3\n",
      "11 hours     2\n",
      "8 hours      1\n",
      "9 hours      1\n",
      "5 hours      1\n",
      "20 hours     1\n",
      "14 hours     1\n",
      "24 hours     1\n",
      "Name: count, dtype: int64\n"
     ]
    }
   ],
   "source": [
    "for col in df.columns:\n",
    "    if df[col].dtype == 'object':\n",
    "        print(f'{col}: {df[col].unique()}')\n",
    "        print('------------------------')\n",
    "        print(f'{df[col].value_counts()}')\n",
    "\n",
    "\n"
   ]
  },
  {
   "cell_type": "code",
   "execution_count": 24,
   "metadata": {},
   "outputs": [
    {
     "data": {
      "image/png": "[encoded data removed]",
      "text/plain": [
       "<Figure size 1000x500 with 1 Axes>"
      ]
     },
     "metadata": {},
     "output_type": "display_data"
    }
   ],
   "source": [
    "# Check for outliers\n",
    "plt.figure(figsize=(10, 5))\n",
    "sns.boxplot(data=df[['Followers', 'Likes']])\n",
    "plt.show()"
   ]
  },
  {
   "cell_type": "code",
   "execution_count": 27,
   "metadata": {},
   "outputs": [
    {
     "data": {
      "image/png": "[encoded data removed]",
      "text/plain": [
       "<Figure size 1500x1000 with 1 Axes>"
      ]
     },
     "metadata": {},
     "output_type": "display_data"
    }
   ],
   "source": [
    "plt.figure(figsize=(15,10))\n",
    "sns.histplot(data=df, x='Followers', bins=30, kde=True)\n",
    "plt.show()\n",
    "\n",
    "\n",
    "# Followers column has right skewness\n",
    "\n",
    "\n"
   ]
  },
  {
   "cell_type": "code",
   "execution_count": 67,
   "metadata": {},
   "outputs": [],
   "source": [
    "# Encode Categorical Variables:\n",
    "\n",
    "from sklearn.preprocessing import LabelEncoder\n",
    "le = LabelEncoder()\n",
    "\n",
    "\n",
    "df['USERNAME'] = le.fit_transform(df['USERNAME'])\n",
    "df['Caption'] = le.fit_transform(df['Caption'])\n",
    "df['Hashtags'] = le.fit_transform(df['Hashtags'])\n",
    "df['Time since posted'] = le.fit_transform(df['Time since posted'])\n",
    "\n"
   ]
  },
  {
   "cell_type": "code",
   "execution_count": 69,
   "metadata": {},
   "outputs": [
    {
     "data": {
      "text/html": [
       "<div>\n",
       "<style scoped>\n",
       "    .dataframe tbody tr th:only-of-type {\n",
       "        vertical-align: middle;\n",
       "    }\n",
       "\n",
       "    .dataframe tbody tr th {\n",
       "        vertical-align: top;\n",
       "    }\n",
       "\n",
       "    .dataframe thead th {\n",
       "        text-align: right;\n",
       "    }\n",
       "</style>\n",
       "<table border=\"1\" class=\"dataframe\">\n",
       "  <thead>\n",
       "    <tr style=\"text-align: right;\">\n",
       "      <th></th>\n",
       "      <th>USERNAME</th>\n",
       "      <th>Caption</th>\n",
       "      <th>Followers</th>\n",
       "      <th>Hashtags</th>\n",
       "      <th>Time since posted</th>\n",
       "      <th>Likes</th>\n",
       "    </tr>\n",
       "  </thead>\n",
       "  <tbody>\n",
       "    <tr>\n",
       "      <th>0</th>\n",
       "      <td>64</td>\n",
       "      <td>86</td>\n",
       "      <td>1600</td>\n",
       "      <td>17</td>\n",
       "      <td>0</td>\n",
       "      <td>139</td>\n",
       "    </tr>\n",
       "    <tr>\n",
       "      <th>1</th>\n",
       "      <td>29</td>\n",
       "      <td>82</td>\n",
       "      <td>880</td>\n",
       "      <td>97</td>\n",
       "      <td>2</td>\n",
       "      <td>23</td>\n",
       "    </tr>\n",
       "  </tbody>\n",
       "</table>\n",
       "</div>"
      ],
      "text/plain": [
       "   USERNAME  Caption  Followers  Hashtags  Time since posted  Likes\n",
       "0        64       86       1600        17                  0    139\n",
       "1        29       82        880        97                  2     23"
      ]
     },
     "execution_count": 69,
     "metadata": {},
     "output_type": "execute_result"
    }
   ],
   "source": [
    "# drop for Unnamed: 0 and S.No columns\n",
    "\n",
    "df.drop(['Unnamed: 0', 'S.No'], axis=1, inplace=True)\n",
    "df.head(2)"
   ]
  },
  {
   "cell_type": "code",
   "execution_count": 70,
   "metadata": {},
   "outputs": [],
   "source": [
    "# Feature Scaling:\n",
    "\n",
    "from sklearn.preprocessing import StandardScaler\n",
    "sc = StandardScaler()\n",
    "\n",
    "df[['Followers', 'Likes']] = sc.fit_transform(df[['Followers', 'Likes']])\n",
    "\n"
   ]
  },
  {
   "cell_type": "code",
   "execution_count": 71,
   "metadata": {},
   "outputs": [],
   "source": [
    "# split the data into train and test\n",
    "\n",
    "from sklearn.model_selection import train_test_split\n",
    "X = df.drop('Likes', axis=1)\n",
    "y = df['Likes']\n",
    "X_train, X_test, y_train, y_test = train_test_split(X, y, test_size=0.2, random_state=42)"
   ]
  },
  {
   "cell_type": "code",
   "execution_count": 72,
   "metadata": {},
   "outputs": [],
   "source": [
    "# Model Training:\n",
    "\n",
    "from sklearn.linear_model import LinearRegression, Ridge,Lasso,ElasticNet\n",
    "from sklearn.metrics import r2_score,mean_absolute_error, mean_squared_error\n",
    "\n",
    "\n"
   ]
  },
  {
   "cell_type": "code",
   "execution_count": 73,
   "metadata": {},
   "outputs": [],
   "source": [
    "def evaluate_model(true, predict):\n",
    "    r2=r2_score(true, predict)\n",
    "    mae=mean_absolute_error(true,predict)\n",
    "    mse=mean_squared_error(true,predict)\n",
    "   \n",
    "\n",
    "    return r2, mae,mse,"
   ]
  },
  {
   "cell_type": "code",
   "execution_count": 74,
   "metadata": {},
   "outputs": [],
   "source": [
    "models={\n",
    "\n",
    "    'LinearRegression':LinearRegression(),\n",
    "    'Lasso':Lasso(),\n",
    "    'Ridge':Ridge(),\n",
    "    'Elasticnet':ElasticNet(),\n",
    "    \n",
    "\n",
    "}"
   ]
  },
  {
   "cell_type": "code",
   "execution_count": 75,
   "metadata": {},
   "outputs": [
    {
     "name": "stdout",
     "output_type": "stream",
     "text": [
      "LinearRegression()\n",
      "Lasso()\n",
      "Ridge()\n",
      "ElasticNet()\n"
     ]
    }
   ],
   "source": [
    "for i in range(len(models)):\n",
    "    model=list((models.values()))[i]\n",
    "    print(model)\n",
    "    \n",
    "    \n",
    "r2_list=[]"
   ]
  },
  {
   "cell_type": "code",
   "execution_count": 76,
   "metadata": {},
   "outputs": [
    {
     "name": "stdout",
     "output_type": "stream",
     "text": [
      "model training performance LinearRegression()\n",
      "MSE: 0.5731715149195288\n",
      "MAE: 0.5454055674812589\n",
      "R2 SCORE: -0.2146624067310272\n",
      "========================================\n",
      "\n",
      "\n",
      "model training performance Lasso()\n",
      "MSE: 0.5697890468828481\n",
      "MAE: 0.588962402998877\n",
      "R2 SCORE: -0.2074942962105628\n",
      "========================================\n",
      "\n",
      "\n",
      "model training performance Ridge()\n",
      "MSE: 0.5738908981711079\n",
      "MAE: 0.5456902378662241\n",
      "R2 SCORE: -0.21618692036958054\n",
      "========================================\n",
      "\n",
      "\n",
      "model training performance ElasticNet()\n",
      "MSE: 0.5839728963143459\n",
      "MAE: 0.5934749253920071\n",
      "R2 SCORE: -0.23755264391053954\n",
      "========================================\n",
      "\n",
      "\n"
     ]
    }
   ],
   "source": [
    "for i in range(len(models)):\n",
    "    model=list(models.values())[i]\n",
    "    \n",
    "    model.fit(X_train,y_train)\n",
    "\n",
    "    #make_prediction\n",
    "    y_pred=model.predict(X_test)\n",
    "\n",
    "    #this is for the validaiton\n",
    "    R2,MAE,MSE=evaluate_model(y_test,y_pred)\n",
    "\n",
    "\n",
    "    print(\"model training performance\",model)\n",
    "    print(\"MSE:\", MSE)\n",
    "    print(\"MAE:\",MAE)\n",
    "    print(\"R2 SCORE:\",R2)\n",
    "    \n",
    "    r2_list.append(R2)\n",
    "\n",
    "    print(\"=\"*40)\n",
    "    print(\"\\n\")\n"
   ]
  },
  {
   "cell_type": "code",
   "execution_count": 77,
   "metadata": {},
   "outputs": [
    {
     "data": {
      "text/plain": [
       "[-0.2146624067310272,\n",
       " -0.2074942962105628,\n",
       " -0.21618692036958054,\n",
       " -0.23755264391053954]"
      ]
     },
     "execution_count": 77,
     "metadata": {},
     "output_type": "execute_result"
    }
   ],
   "source": [
    "r2_list"
   ]
  },
  {
   "cell_type": "markdown",
   "metadata": {},
   "source": [
    "# Lasso Regression has the lowest MSE (0.5697890468828481) and Ridge Regression has the lowest MAE (0.5456902378662241) "
   ]
  }
 ],
 "metadata": {
  "kernelspec": {
   "display_name": "Python 3",
   "language": "python",
   "name": "python3"
  },
  "language_info": {
   "codemirror_mode": {
    "name": "ipython",
    "version": 3
   },
   "file_extension": ".py",
   "mimetype": "text/x-python",
   "name": "python",
   "nbconvert_exporter": "python",
   "pygments_lexer": "ipython3",
   "version": "3.11.0"
  }
 },
 "nbformat": 4,
 "nbformat_minor": 2
}
