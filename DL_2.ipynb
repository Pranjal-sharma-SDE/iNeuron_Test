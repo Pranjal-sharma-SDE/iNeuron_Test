{
  "nbformat": 4,
  "nbformat_minor": 0,
  "metadata": {
    "colab": {
      "provenance": [],
      "gpuType": "T4"
    },
    "kernelspec": {
      "name": "python3",
      "display_name": "Python 3"
    },
    "language_info": {
      "name": "python"
    },
    "accelerator": "GPU"
  },
  "cells": [
    {
      "cell_type": "markdown",
      "source": [
        "# Load the library"
      ],
      "metadata": {
        "id": "D0P8LEiymZnD"
      }
    },
    {
      "cell_type": "code",
      "execution_count": 1,
      "metadata": {
        "id": "UZD8m1TKmTtU"
      },
      "outputs": [],
      "source": [
        "import tensorflow as tf\n",
        "from tensorflow.keras import layers, models\n",
        "from tensorflow.keras.datasets import mnist\n",
        "from tensorflow.keras.utils import to_categorical"
      ]
    },
    {
      "cell_type": "code",
      "source": [],
      "metadata": {
        "id": "gCH5e6tPmfRq"
      },
      "execution_count": null,
      "outputs": []
    },
    {
      "cell_type": "markdown",
      "source": [
        "# Load and preprocess the MNIST dataset"
      ],
      "metadata": {
        "id": "IFa8ycZQmgWk"
      }
    },
    {
      "cell_type": "code",
      "source": [
        "(train_images, train_labels), (test_images, test_labels) = mnist.load_data()\n",
        "train_images = train_images.reshape((60000, 28, 28, 1)).astype('float32') / 255\n",
        "test_images = test_images.reshape((10000, 28, 28, 1)).astype('float32') / 255\n",
        "\n",
        "train_labels = to_categorical(train_labels)\n",
        "test_labels = to_categorical(test_labels)"
      ],
      "metadata": {
        "colab": {
          "base_uri": "https://localhost:8080/"
        },
        "id": "8BCy_v_Emhb1",
        "outputId": "baf5eb41-e416-41bc-b631-c6a5b2a005d2"
      },
      "execution_count": 2,
      "outputs": [
        {
          "output_type": "stream",
          "name": "stdout",
          "text": [
            "Downloading data from https://storage.googleapis.com/tensorflow/tf-keras-datasets/mnist.npz\n",
            "11490434/11490434 [==============================] - 0s 0us/step\n"
          ]
        }
      ]
    },
    {
      "cell_type": "code",
      "source": [],
      "metadata": {
        "id": "BWwuhUaamif4"
      },
      "execution_count": null,
      "outputs": []
    },
    {
      "cell_type": "markdown",
      "source": [
        "# Build the model"
      ],
      "metadata": {
        "id": "QteNDcKQmmTD"
      }
    },
    {
      "cell_type": "code",
      "source": [
        "\n",
        "model = models.Sequential()\n",
        "\n",
        "model.add(layers.Flatten(input_shape=(28, 28, 1)))\n",
        "model.add(layers.Dense(128, activation='relu'))\n",
        "model.add(layers.Dense(10, activation='softmax'))"
      ],
      "metadata": {
        "id": "D797jEJBmoVB"
      },
      "execution_count": 3,
      "outputs": []
    },
    {
      "cell_type": "code",
      "source": [
        "model.summary()"
      ],
      "metadata": {
        "colab": {
          "base_uri": "https://localhost:8080/"
        },
        "id": "uOLj9xEEmqH8",
        "outputId": "ef073ca4-fb24-4df3-c90c-6aade9fe5f46"
      },
      "execution_count": 4,
      "outputs": [
        {
          "output_type": "stream",
          "name": "stdout",
          "text": [
            "Model: \"sequential\"\n",
            "_________________________________________________________________\n",
            " Layer (type)                Output Shape              Param #   \n",
            "=================================================================\n",
            " flatten (Flatten)           (None, 784)               0         \n",
            "                                                                 \n",
            " dense (Dense)               (None, 128)               100480    \n",
            "                                                                 \n",
            " dense_1 (Dense)             (None, 10)                1290      \n",
            "                                                                 \n",
            "=================================================================\n",
            "Total params: 101770 (397.54 KB)\n",
            "Trainable params: 101770 (397.54 KB)\n",
            "Non-trainable params: 0 (0.00 Byte)\n",
            "_________________________________________________________________\n"
          ]
        }
      ]
    },
    {
      "cell_type": "code",
      "source": [
        "# Compile the model\n",
        "model.compile(optimizer='adam',\n",
        "              loss='categorical_crossentropy',\n",
        "              metrics=['accuracy'])"
      ],
      "metadata": {
        "id": "vQAW2ftkmsWQ"
      },
      "execution_count": 5,
      "outputs": []
    },
    {
      "cell_type": "code",
      "source": [
        "history = model.fit(train_images, train_labels, epochs=10, batch_size=64, validation_split=0.2)\n"
      ],
      "metadata": {
        "colab": {
          "base_uri": "https://localhost:8080/"
        },
        "id": "GqF1fYnRm2rb",
        "outputId": "aba751c0-507e-4fa7-cb50-682b5a3f0f19"
      },
      "execution_count": 6,
      "outputs": [
        {
          "output_type": "stream",
          "name": "stdout",
          "text": [
            "Epoch 1/10\n",
            "750/750 [==============================] - 5s 5ms/step - loss: 0.3395 - accuracy: 0.9057 - val_loss: 0.1925 - val_accuracy: 0.9445\n",
            "Epoch 2/10\n",
            "750/750 [==============================] - 4s 6ms/step - loss: 0.1606 - accuracy: 0.9535 - val_loss: 0.1384 - val_accuracy: 0.9599\n",
            "Epoch 3/10\n",
            "750/750 [==============================] - 3s 5ms/step - loss: 0.1125 - accuracy: 0.9677 - val_loss: 0.1187 - val_accuracy: 0.9659\n",
            "Epoch 4/10\n",
            "750/750 [==============================] - 4s 5ms/step - loss: 0.0858 - accuracy: 0.9751 - val_loss: 0.0982 - val_accuracy: 0.9712\n",
            "Epoch 5/10\n",
            "750/750 [==============================] - 3s 5ms/step - loss: 0.0673 - accuracy: 0.9799 - val_loss: 0.0914 - val_accuracy: 0.9715\n",
            "Epoch 6/10\n",
            "750/750 [==============================] - 4s 5ms/step - loss: 0.0523 - accuracy: 0.9848 - val_loss: 0.0989 - val_accuracy: 0.9713\n",
            "Epoch 7/10\n",
            "750/750 [==============================] - 3s 5ms/step - loss: 0.0438 - accuracy: 0.9875 - val_loss: 0.0895 - val_accuracy: 0.9746\n",
            "Epoch 8/10\n",
            "750/750 [==============================] - 3s 5ms/step - loss: 0.0343 - accuracy: 0.9902 - val_loss: 0.0868 - val_accuracy: 0.9743\n",
            "Epoch 9/10\n",
            "750/750 [==============================] - 4s 6ms/step - loss: 0.0300 - accuracy: 0.9911 - val_loss: 0.0804 - val_accuracy: 0.9756\n",
            "Epoch 10/10\n",
            "750/750 [==============================] - 3s 5ms/step - loss: 0.0231 - accuracy: 0.9937 - val_loss: 0.0869 - val_accuracy: 0.9755\n"
          ]
        }
      ]
    },
    {
      "cell_type": "code",
      "source": [
        "test_loss, test_acc = model.evaluate(test_images, test_labels)\n",
        "print(f'Test accuracy: {test_acc * 100:.2f}%')"
      ],
      "metadata": {
        "colab": {
          "base_uri": "https://localhost:8080/"
        },
        "id": "V-erFw7Km6i0",
        "outputId": "292a8e76-247b-42be-eedd-9d8430b542b6"
      },
      "execution_count": 7,
      "outputs": [
        {
          "output_type": "stream",
          "name": "stdout",
          "text": [
            "313/313 [==============================] - 1s 2ms/step - loss: 0.0826 - accuracy: 0.9764\n",
            "Test accuracy: 97.64%\n"
          ]
        }
      ]
    },
    {
      "cell_type": "code",
      "source": [],
      "metadata": {
        "id": "3iLBvcBQm7jq"
      },
      "execution_count": null,
      "outputs": []
    }
  ]
}