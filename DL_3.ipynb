{
  "nbformat": 4,
  "nbformat_minor": 0,
  "metadata": {
    "colab": {
      "provenance": [],
      "gpuType": "T4"
    },
    "kernelspec": {
      "name": "python3",
      "display_name": "Python 3"
    },
    "language_info": {
      "name": "python"
    },
    "accelerator": "GPU"
  },
  "cells": [
    {
      "cell_type": "markdown",
      "source": [
        "# Load the library"
      ],
      "metadata": {
        "id": "Af-n-9sQnmD5"
      }
    },
    {
      "cell_type": "code",
      "execution_count": 1,
      "metadata": {
        "id": "LVLqNmpPngA0"
      },
      "outputs": [],
      "source": [
        "import numpy as np\n",
        "import tensorflow as tf\n",
        "from tensorflow.keras.models import Sequential\n",
        "from tensorflow.keras.layers import Dense\n",
        "from sklearn.datasets import fetch_california_housing\n",
        "from sklearn.model_selection import train_test_split\n",
        "from sklearn.preprocessing import StandardScaler\n",
        "from sklearn.metrics import mean_squared_error\n"
      ]
    },
    {
      "cell_type": "markdown",
      "source": [
        "# Load the dataset"
      ],
      "metadata": {
        "id": "sEPrbpVjnqJk"
      }
    },
    {
      "cell_type": "code",
      "source": [
        "california_housing = fetch_california_housing()\n",
        "X, y = california_housing.data, california_housing.target"
      ],
      "metadata": {
        "id": "62kRJJlInr6j"
      },
      "execution_count": 2,
      "outputs": []
    },
    {
      "cell_type": "markdown",
      "source": [
        "# Split dataset"
      ],
      "metadata": {
        "id": "yOENzYv2nshL"
      }
    },
    {
      "cell_type": "code",
      "source": [
        "X_train, X_test, y_train, y_test = train_test_split(X, y, test_size=0.2, random_state=42)"
      ],
      "metadata": {
        "id": "_-zTPqSJnxeC"
      },
      "execution_count": 3,
      "outputs": []
    },
    {
      "cell_type": "markdown",
      "source": [
        "#  Standardize the features"
      ],
      "metadata": {
        "id": "LrqnhEc8n9gn"
      }
    },
    {
      "cell_type": "code",
      "source": [
        "scaler = StandardScaler()\n",
        "X_train = scaler.fit_transform(X_train)\n",
        "X_test = scaler.transform(X_test)"
      ],
      "metadata": {
        "id": "PiZKyLW9oiw3"
      },
      "execution_count": 4,
      "outputs": []
    },
    {
      "cell_type": "markdown",
      "source": [
        "#  Build a simple regression model"
      ],
      "metadata": {
        "id": "0389LQzynyIf"
      }
    },
    {
      "cell_type": "code",
      "source": [
        "model = Sequential()\n",
        "model.add(Dense(64, activation='relu', input_shape=(X_train.shape[1],)))\n",
        "model.add(Dense(1))  # Output layer with a single neuron for regression"
      ],
      "metadata": {
        "id": "vvtY_8dxomFe"
      },
      "execution_count": 5,
      "outputs": []
    },
    {
      "cell_type": "markdown",
      "source": [
        "#  Compile the model"
      ],
      "metadata": {
        "id": "Ex3OpASIn_t7"
      }
    },
    {
      "cell_type": "code",
      "source": [
        "model.compile(optimizer='adam', loss='mean_squared_error')"
      ],
      "metadata": {
        "id": "A7ok6JxyoBca"
      },
      "execution_count": 6,
      "outputs": []
    },
    {
      "cell_type": "markdown",
      "source": [
        "Display the model summary"
      ],
      "metadata": {
        "id": "hKzWsZploCWa"
      }
    },
    {
      "cell_type": "code",
      "source": [
        "model.summary()"
      ],
      "metadata": {
        "colab": {
          "base_uri": "https://localhost:8080/"
        },
        "id": "nA1FVgyHoDgC",
        "outputId": "ed2076d2-20a5-4b20-c39f-188373fbf7c2"
      },
      "execution_count": 7,
      "outputs": [
        {
          "output_type": "stream",
          "name": "stdout",
          "text": [
            "Model: \"sequential\"\n",
            "_________________________________________________________________\n",
            " Layer (type)                Output Shape              Param #   \n",
            "=================================================================\n",
            " dense (Dense)               (None, 64)                576       \n",
            "                                                                 \n",
            " dense_1 (Dense)             (None, 1)                 65        \n",
            "                                                                 \n",
            "=================================================================\n",
            "Total params: 641 (2.50 KB)\n",
            "Trainable params: 641 (2.50 KB)\n",
            "Non-trainable params: 0 (0.00 Byte)\n",
            "_________________________________________________________________\n"
          ]
        }
      ]
    },
    {
      "cell_type": "markdown",
      "source": [
        "Train the model"
      ],
      "metadata": {
        "id": "m9Y6154LoENV"
      }
    },
    {
      "cell_type": "code",
      "source": [
        "history = model.fit(X_train, y_train, epochs=50, batch_size=32, validation_split=0.2)"
      ],
      "metadata": {
        "colab": {
          "base_uri": "https://localhost:8080/"
        },
        "id": "HMMCA89VoFeU",
        "outputId": "b1090bbd-70c9-4aab-a3f4-c100cd908d61"
      },
      "execution_count": 8,
      "outputs": [
        {
          "output_type": "stream",
          "name": "stdout",
          "text": [
            "Epoch 1/50\n",
            "413/413 [==============================] - 4s 4ms/step - loss: 1.1197 - val_loss: 0.5824\n",
            "Epoch 2/50\n",
            "413/413 [==============================] - 1s 3ms/step - loss: 0.4815 - val_loss: 0.4600\n",
            "Epoch 3/50\n",
            "413/413 [==============================] - 2s 4ms/step - loss: 0.4211 - val_loss: 0.4336\n",
            "Epoch 4/50\n",
            "413/413 [==============================] - 2s 4ms/step - loss: 0.3995 - val_loss: 0.4192\n",
            "Epoch 5/50\n",
            "413/413 [==============================] - 1s 3ms/step - loss: 0.3872 - val_loss: 0.4064\n",
            "Epoch 6/50\n",
            "413/413 [==============================] - 2s 4ms/step - loss: 0.3756 - val_loss: 0.4000\n",
            "Epoch 7/50\n",
            "413/413 [==============================] - 2s 5ms/step - loss: 0.3685 - val_loss: 0.4010\n",
            "Epoch 8/50\n",
            "413/413 [==============================] - 1s 3ms/step - loss: 0.3658 - val_loss: 0.3897\n",
            "Epoch 9/50\n",
            "413/413 [==============================] - 1s 3ms/step - loss: 0.3609 - val_loss: 0.3879\n",
            "Epoch 10/50\n",
            "413/413 [==============================] - 1s 3ms/step - loss: 0.3591 - val_loss: 0.3807\n",
            "Epoch 11/50\n",
            "413/413 [==============================] - 2s 4ms/step - loss: 0.3484 - val_loss: 0.3846\n",
            "Epoch 12/50\n",
            "413/413 [==============================] - 2s 5ms/step - loss: 0.3421 - val_loss: 0.3767\n",
            "Epoch 13/50\n",
            "413/413 [==============================] - 2s 4ms/step - loss: 0.3511 - val_loss: 0.3670\n",
            "Epoch 14/50\n",
            "413/413 [==============================] - 1s 3ms/step - loss: 0.3422 - val_loss: 0.3656\n",
            "Epoch 15/50\n",
            "413/413 [==============================] - 1s 3ms/step - loss: 0.3322 - val_loss: 0.3638\n",
            "Epoch 16/50\n",
            "413/413 [==============================] - 1s 3ms/step - loss: 0.3302 - val_loss: 0.3641\n",
            "Epoch 17/50\n",
            "413/413 [==============================] - 1s 3ms/step - loss: 0.3288 - val_loss: 0.4074\n",
            "Epoch 18/50\n",
            "413/413 [==============================] - 1s 3ms/step - loss: 0.3313 - val_loss: 0.3566\n",
            "Epoch 19/50\n",
            "413/413 [==============================] - 2s 4ms/step - loss: 0.3265 - val_loss: 0.3519\n",
            "Epoch 20/50\n",
            "413/413 [==============================] - 2s 4ms/step - loss: 0.3187 - val_loss: 0.3521\n",
            "Epoch 21/50\n",
            "413/413 [==============================] - 1s 3ms/step - loss: 0.3287 - val_loss: 0.3489\n",
            "Epoch 22/50\n",
            "413/413 [==============================] - 1s 3ms/step - loss: 0.3183 - val_loss: 0.3444\n",
            "Epoch 23/50\n",
            "413/413 [==============================] - 1s 3ms/step - loss: 0.3171 - val_loss: 0.3441\n",
            "Epoch 24/50\n",
            "413/413 [==============================] - 1s 3ms/step - loss: 0.3119 - val_loss: 0.3462\n",
            "Epoch 25/50\n",
            "413/413 [==============================] - 1s 3ms/step - loss: 0.3172 - val_loss: 0.3662\n",
            "Epoch 26/50\n",
            "413/413 [==============================] - 1s 3ms/step - loss: 0.3163 - val_loss: 0.3655\n",
            "Epoch 27/50\n",
            "413/413 [==============================] - 1s 3ms/step - loss: 0.3364 - val_loss: 0.3485\n",
            "Epoch 28/50\n",
            "413/413 [==============================] - 1s 4ms/step - loss: 0.3103 - val_loss: 0.3437\n",
            "Epoch 29/50\n",
            "413/413 [==============================] - 2s 4ms/step - loss: 0.3082 - val_loss: 0.3368\n",
            "Epoch 30/50\n",
            "413/413 [==============================] - 1s 3ms/step - loss: 0.3062 - val_loss: 0.3373\n",
            "Epoch 31/50\n",
            "413/413 [==============================] - 1s 3ms/step - loss: 0.3065 - val_loss: 0.3330\n",
            "Epoch 32/50\n",
            "413/413 [==============================] - 1s 3ms/step - loss: 0.3044 - val_loss: 0.3381\n",
            "Epoch 33/50\n",
            "413/413 [==============================] - 1s 3ms/step - loss: 0.3011 - val_loss: 0.3377\n",
            "Epoch 34/50\n",
            "413/413 [==============================] - 2s 4ms/step - loss: 0.3069 - val_loss: 0.3337\n",
            "Epoch 35/50\n",
            "413/413 [==============================] - 2s 4ms/step - loss: 0.3088 - val_loss: 0.3296\n",
            "Epoch 36/50\n",
            "413/413 [==============================] - 1s 3ms/step - loss: 0.3046 - val_loss: 0.3301\n",
            "Epoch 37/50\n",
            "413/413 [==============================] - 2s 4ms/step - loss: 0.3048 - val_loss: 0.3563\n",
            "Epoch 38/50\n",
            "413/413 [==============================] - 1s 3ms/step - loss: 0.3016 - val_loss: 0.3385\n",
            "Epoch 39/50\n",
            "413/413 [==============================] - 1s 3ms/step - loss: 0.3009 - val_loss: 0.3445\n",
            "Epoch 40/50\n",
            "413/413 [==============================] - 1s 3ms/step - loss: 0.3054 - val_loss: 0.3418\n",
            "Epoch 41/50\n",
            "413/413 [==============================] - 1s 3ms/step - loss: 0.3104 - val_loss: 0.3328\n",
            "Epoch 42/50\n",
            "413/413 [==============================] - 1s 3ms/step - loss: 0.2962 - val_loss: 0.3840\n",
            "Epoch 43/50\n",
            "413/413 [==============================] - 1s 3ms/step - loss: 0.3027 - val_loss: 0.3281\n",
            "Epoch 44/50\n",
            "413/413 [==============================] - 1s 3ms/step - loss: 0.3033 - val_loss: 0.3318\n",
            "Epoch 45/50\n",
            "413/413 [==============================] - 1s 3ms/step - loss: 0.2968 - val_loss: 0.3326\n",
            "Epoch 46/50\n",
            "413/413 [==============================] - 1s 4ms/step - loss: 0.2942 - val_loss: 0.3324\n",
            "Epoch 47/50\n",
            "413/413 [==============================] - 2s 4ms/step - loss: 0.3009 - val_loss: 0.3352\n",
            "Epoch 48/50\n",
            "413/413 [==============================] - 1s 3ms/step - loss: 0.2938 - val_loss: 0.3344\n",
            "Epoch 49/50\n",
            "413/413 [==============================] - 1s 3ms/step - loss: 0.3026 - val_loss: 0.3326\n",
            "Epoch 50/50\n",
            "413/413 [==============================] - 1s 3ms/step - loss: 0.2919 - val_loss: 0.3290\n"
          ]
        }
      ]
    },
    {
      "cell_type": "markdown",
      "source": [
        "# Evaluate the model on the test set"
      ],
      "metadata": {
        "id": "1yzTCww5oF5b"
      }
    },
    {
      "cell_type": "code",
      "source": [
        "y_pred = model.predict(X_test)"
      ],
      "metadata": {
        "colab": {
          "base_uri": "https://localhost:8080/"
        },
        "id": "bwfQFrQcoI8O",
        "outputId": "8df515b4-2cbb-44df-cfc0-26487cefd405"
      },
      "execution_count": 9,
      "outputs": [
        {
          "output_type": "stream",
          "name": "stdout",
          "text": [
            "129/129 [==============================] - 0s 1ms/step\n"
          ]
        }
      ]
    },
    {
      "cell_type": "code",
      "source": [
        "mse = mean_squared_error(y_test, y_pred)\n",
        "print(f'Mean Squared Error on Test Set: {mse:.2f}')"
      ],
      "metadata": {
        "colab": {
          "base_uri": "https://localhost:8080/"
        },
        "id": "QovE2hPhowQj",
        "outputId": "9b9ec8a5-e538-4a66-8c70-70877182c0ed"
      },
      "execution_count": 10,
      "outputs": [
        {
          "output_type": "stream",
          "name": "stdout",
          "text": [
            "Mean Squared Error on Test Set: 0.31\n"
          ]
        }
      ]
    },
    {
      "cell_type": "code",
      "source": [],
      "metadata": {
        "id": "2dMmKFlAoyd9"
      },
      "execution_count": null,
      "outputs": []
    }
  ]
}