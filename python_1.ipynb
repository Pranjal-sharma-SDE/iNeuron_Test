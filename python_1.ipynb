{
 "cells": [
  {
   "cell_type": "code",
   "execution_count": 31,
   "metadata": {},
   "outputs": [
    {
     "name": "stdout",
     "output_type": "stream",
     "text": [
      "{'abc def ghi jkl mno pqr stu vwx yz': 'you are finally here !!!'}\n"
     ]
    }
   ],
   "source": [
    "def generate_output(input_dict):\n",
    "    output = {}\n",
    "\n",
    "    def traverse(dictionary, keys):\n",
    "        for key, value in dictionary.items():\n",
    "            current_keys = keys + [key]\n",
    "            output_key = \" \".join(current_keys)\n",
    "\n",
    "            if isinstance(value, dict):\n",
    "                traverse(value, current_keys)\n",
    "            else:\n",
    "                output[output_key] = value\n",
    "\n",
    "    traverse(input_dict, [])\n",
    "\n",
    "    return output\n",
    "\n",
    "input_dict = {\n",
    "    \"abc\": {\n",
    "        \"def\": {\n",
    "            \"ghi\": {\n",
    "                \"jkl\": {\n",
    "                    \"mno\": {\n",
    "                        \"pqr\": {\n",
    "                            \"stu\": {\n",
    "                                \"vwx\": {\n",
    "                                    \"yz\": \"you are finally here !!!\"\n",
    "                                }\n",
    "                            }\n",
    "                        }\n",
    "                    }\n",
    "                }\n",
    "            }\n",
    "        }\n",
    "    }\n",
    "}\n",
    "\n",
    "output = generate_output(input_dict)\n",
    "print(output)\n"
   ]
  },
  {
   "cell_type": "code",
   "execution_count": 18,
   "metadata": {},
   "outputs": [
    {
     "name": "stdout",
     "output_type": "stream",
     "text": [
      "{'abc': {'def': {'ghi': {'jkl': {'mno': {'pqr': {'stu': {'vwx': {'yz': 'you are finally here !!!'}}}}}}}}}\n",
      "{'def': {'ghi': {'jkl': {'mno': {'pqr': {'stu': {'vwx': {'yz': 'you are finally here !!!'}}}}}}}}\n",
      "{'def': {'ghi': {'jkl': {'mno': {'pqr': {'stu': {'vwx': {'yz': 'you are finally here !!!'}}}}}}}}\n",
      "<class 'dict'>\n"
     ]
    }
   ],
   "source": [
    "print(input_dict)\n",
    "print(input_dict[key])\n",
    "input2=dict(input_dict[key])\n",
    "\n",
    "print(input2)\n",
    "\n",
    "print(type(input2))\n",
    "\n"
   ]
  },
  {
   "cell_type": "code",
   "execution_count": 26,
   "metadata": {},
   "outputs": [
    {
     "name": "stdout",
     "output_type": "stream",
     "text": [
      "you are finally here !!!\n",
      "you are finally here !!!\n",
      "<class 'str'>\n"
     ]
    }
   ],
   "source": [
    "keys_to_access = [\"abc\", \"def\", \"ghi\", \"jkl\", \"mno\", \"pqr\", \"stu\", \"vwx\", \"yz\"]\n",
    "\n",
    "# Access and print the value using the specified keys\n",
    "value = input_dict\n",
    "for key in keys_to_access:\n",
    "    value = value[key]\n",
    "\n",
    "print(value)\n",
    "\n",
    "# Assign the value to input2\n",
    "input2 = value\n",
    "\n",
    "# Print input2 and its type\n",
    "print(input2)\n",
    "print(type(input2))"
   ]
  },
  {
   "cell_type": "code",
   "execution_count": 8,
   "metadata": {},
   "outputs": [
    {
     "ename": "AttributeError",
     "evalue": "'str' object has no attribute 'append'",
     "output_type": "error",
     "traceback": [
      "\u001b[1;31m---------------------------------------------------------------------------\u001b[0m",
      "\u001b[1;31mAttributeError\u001b[0m                            Traceback (most recent call last)",
      "Cell \u001b[1;32mIn[8], line 22\u001b[0m\n\u001b[0;32m     19\u001b[0m     \u001b[38;5;28;01mreturn\u001b[39;00m output_dict\n\u001b[0;32m     21\u001b[0m input_dict \u001b[38;5;241m=\u001b[39m {\u001b[38;5;124m\"\u001b[39m\u001b[38;5;124mabc\u001b[39m\u001b[38;5;124m\"\u001b[39m:{\u001b[38;5;124m\"\u001b[39m\u001b[38;5;124mdef\u001b[39m\u001b[38;5;124m\"\u001b[39m:{\u001b[38;5;124m\"\u001b[39m\u001b[38;5;124mghi\u001b[39m\u001b[38;5;124m\"\u001b[39m:{\u001b[38;5;124m\"\u001b[39m\u001b[38;5;124mjkl\u001b[39m\u001b[38;5;124m\"\u001b[39m:{\u001b[38;5;124m\"\u001b[39m\u001b[38;5;124mmno\u001b[39m\u001b[38;5;124m\"\u001b[39m:{\u001b[38;5;124m\"\u001b[39m\u001b[38;5;124mpqr\u001b[39m\u001b[38;5;124m\"\u001b[39m:{\u001b[38;5;124m\"\u001b[39m\u001b[38;5;124mstu\u001b[39m\u001b[38;5;124m\"\u001b[39m:{\u001b[38;5;124m\"\u001b[39m\u001b[38;5;124mvwx\u001b[39m\u001b[38;5;124m\"\u001b[39m:{\u001b[38;5;124m\"\u001b[39m\u001b[38;5;124myz\u001b[39m\u001b[38;5;124m\"\u001b[39m:\u001b[38;5;124m\"\u001b[39m\u001b[38;5;124myou are finally here !!!\u001b[39m\u001b[38;5;124m\"\u001b[39m}}}}}}}}}\n\u001b[1;32m---> 22\u001b[0m output \u001b[38;5;241m=\u001b[39m \u001b[43mprint_dict_keys\u001b[49m\u001b[43m(\u001b[49m\u001b[43minput_dict\u001b[49m\u001b[43m)\u001b[49m\n\u001b[0;32m     23\u001b[0m \u001b[38;5;28mprint\u001b[39m(output)\n",
      "Cell \u001b[1;32mIn[8], line 11\u001b[0m, in \u001b[0;36mprint_dict_keys\u001b[1;34m(input_dict, output_dict, key_list)\u001b[0m\n\u001b[0;32m      9\u001b[0m output_dict[key] \u001b[38;5;241m=\u001b[39m [k \u001b[38;5;28;01mfor\u001b[39;00m k \u001b[38;5;129;01min\u001b[39;00m input_dict[key]]\n\u001b[0;32m     10\u001b[0m \u001b[38;5;28;01mif\u001b[39;00m \u001b[38;5;28misinstance\u001b[39m(value, \u001b[38;5;28mdict\u001b[39m):\n\u001b[1;32m---> 11\u001b[0m     \u001b[43mprint_dict_keys\u001b[49m\u001b[43m(\u001b[49m\u001b[43mvalue\u001b[49m\u001b[43m,\u001b[49m\u001b[43m \u001b[49m\u001b[43moutput_dict\u001b[49m\u001b[43m,\u001b[49m\u001b[43m \u001b[49m\u001b[43mnew_key_list\u001b[49m\u001b[43m)\u001b[49m\n\u001b[0;32m     12\u001b[0m \u001b[38;5;28;01melse\u001b[39;00m:\n\u001b[0;32m     13\u001b[0m     output_dict[key] \u001b[38;5;241m=\u001b[39m value\n",
      "Cell \u001b[1;32mIn[8], line 11\u001b[0m, in \u001b[0;36mprint_dict_keys\u001b[1;34m(input_dict, output_dict, key_list)\u001b[0m\n\u001b[0;32m      9\u001b[0m output_dict[key] \u001b[38;5;241m=\u001b[39m [k \u001b[38;5;28;01mfor\u001b[39;00m k \u001b[38;5;129;01min\u001b[39;00m input_dict[key]]\n\u001b[0;32m     10\u001b[0m \u001b[38;5;28;01mif\u001b[39;00m \u001b[38;5;28misinstance\u001b[39m(value, \u001b[38;5;28mdict\u001b[39m):\n\u001b[1;32m---> 11\u001b[0m     \u001b[43mprint_dict_keys\u001b[49m\u001b[43m(\u001b[49m\u001b[43mvalue\u001b[49m\u001b[43m,\u001b[49m\u001b[43m \u001b[49m\u001b[43moutput_dict\u001b[49m\u001b[43m,\u001b[49m\u001b[43m \u001b[49m\u001b[43mnew_key_list\u001b[49m\u001b[43m)\u001b[49m\n\u001b[0;32m     12\u001b[0m \u001b[38;5;28;01melse\u001b[39;00m:\n\u001b[0;32m     13\u001b[0m     output_dict[key] \u001b[38;5;241m=\u001b[39m value\n",
      "    \u001b[1;31m[... skipping similar frames: print_dict_keys at line 11 (5 times)]\u001b[0m\n",
      "Cell \u001b[1;32mIn[8], line 11\u001b[0m, in \u001b[0;36mprint_dict_keys\u001b[1;34m(input_dict, output_dict, key_list)\u001b[0m\n\u001b[0;32m      9\u001b[0m output_dict[key] \u001b[38;5;241m=\u001b[39m [k \u001b[38;5;28;01mfor\u001b[39;00m k \u001b[38;5;129;01min\u001b[39;00m input_dict[key]]\n\u001b[0;32m     10\u001b[0m \u001b[38;5;28;01mif\u001b[39;00m \u001b[38;5;28misinstance\u001b[39m(value, \u001b[38;5;28mdict\u001b[39m):\n\u001b[1;32m---> 11\u001b[0m     \u001b[43mprint_dict_keys\u001b[49m\u001b[43m(\u001b[49m\u001b[43mvalue\u001b[49m\u001b[43m,\u001b[49m\u001b[43m \u001b[49m\u001b[43moutput_dict\u001b[49m\u001b[43m,\u001b[49m\u001b[43m \u001b[49m\u001b[43mnew_key_list\u001b[49m\u001b[43m)\u001b[49m\n\u001b[0;32m     12\u001b[0m \u001b[38;5;28;01melse\u001b[39;00m:\n\u001b[0;32m     13\u001b[0m     output_dict[key] \u001b[38;5;241m=\u001b[39m value\n",
      "Cell \u001b[1;32mIn[8], line 17\u001b[0m, in \u001b[0;36mprint_dict_keys\u001b[1;34m(input_dict, output_dict, key_list)\u001b[0m\n\u001b[0;32m     15\u001b[0m             temp_key \u001b[38;5;241m=\u001b[39m new_key_list[i]\n\u001b[0;32m     16\u001b[0m             \u001b[38;5;28;01mif\u001b[39;00m temp_key \u001b[38;5;129;01min\u001b[39;00m output_dict:\n\u001b[1;32m---> 17\u001b[0m                 \u001b[43moutput_dict\u001b[49m\u001b[43m[\u001b[49m\u001b[43mtemp_key\u001b[49m\u001b[43m]\u001b[49m\u001b[38;5;241;43m.\u001b[39;49m\u001b[43mappend\u001b[49m(value)\n\u001b[0;32m     19\u001b[0m \u001b[38;5;28;01mreturn\u001b[39;00m output_dict\n",
      "\u001b[1;31mAttributeError\u001b[0m: 'str' object has no attribute 'append'"
     ]
    }
   ],
   "source": [
    "def print_dict_keys(input_dict, output_dict=None, key_list=None):\n",
    "    if output_dict is None:\n",
    "        output_dict = {}\n",
    "    if key_list is None:\n",
    "        key_list = []\n",
    "\n",
    "    for key, value in input_dict.items():\n",
    "        new_key_list = key_list + [key]\n",
    "        if isinstance(value, dict):\n",
    "            print_dict_keys(value, output_dict, new_key_list)\n",
    "        else:\n",
    "            output_dict[key] = new_key_list\n",
    "\n",
    "    return output_dict\n",
    "\n",
    "\n",
    "output = print_dict_keys(input_dict)\n",
    "print(output)\n"
   ]
  },
  {
   "cell_type": "code",
   "execution_count": 28,
   "metadata": {},
   "outputs": [
    {
     "name": "stdout",
     "output_type": "stream",
     "text": [
      "{'def': {'ghi': {'jkl': {'mno': {'pqr': {'stu': {'vwx': {'yz': 'you are finally here !!!'}}}}}}}}\n",
      "{'ghi': {'jkl': {'mno': {'pqr': {'stu': {'vwx': {'yz': 'you are finally here !!!'}}}}}}}\n",
      "{'jkl': {'mno': {'pqr': {'stu': {'vwx': {'yz': 'you are finally here !!!'}}}}}}\n",
      "{'mno': {'pqr': {'stu': {'vwx': {'yz': 'you are finally here !!!'}}}}}\n",
      "{'pqr': {'stu': {'vwx': {'yz': 'you are finally here !!!'}}}}\n",
      "{'stu': {'vwx': {'yz': 'you are finally here !!!'}}}\n",
      "{'vwx': {'yz': 'you are finally here !!!'}}\n",
      "{'yz': 'you are finally here !!!'}\n",
      "you are finally here !!!\n",
      "you are finally here !!!\n",
      "<class 'str'>\n"
     ]
    }
   ],
   "source": [
    "def get_value_by_keys(dictionary, keys):\n",
    "    value = dictionary\n",
    "    for key in keys:\n",
    "        if key in value:\n",
    "            value = value[key]\n",
    "            print(value)\n",
    "        else:\n",
    "            return None  # Key not found, handle this case as needed\n",
    "    return value\n",
    "\n",
    "input_dict = {\n",
    "    \"abc\": {\n",
    "        \"def\": {\n",
    "            \"ghi\": {\n",
    "                \"jkl\": {\n",
    "                    \"mno\": {\n",
    "                        \"pqr\": {\n",
    "                            \"stu\": {\n",
    "                                \"vwx\": {\n",
    "                                    \"yz\": \"you are finally here !!!\"\n",
    "                                }\n",
    "                            }\n",
    "                        }\n",
    "                    }\n",
    "                }\n",
    "            }\n",
    "        }\n",
    "    }\n",
    "}\n",
    "\n",
    "# Specify the nested keys to access the value\n",
    "keys_to_access = [\"abc\", \"def\", \"ghi\", \"jkl\", \"mno\", \"pqr\", \"stu\", \"vwx\", \"yz\"]\n",
    "\n",
    "# Use the function to get the value\n",
    "result = get_value_by_keys(input_dict, keys_to_access)\n",
    "\n",
    "# Print the result and its type\n",
    "print(result)\n",
    "print(type(result))\n"
   ]
  },
  {
   "cell_type": "code",
   "execution_count": null,
   "metadata": {},
   "outputs": [],
   "source": []
  }
 ],
 "metadata": {
  "kernelspec": {
   "display_name": "Python 3",
   "language": "python",
   "name": "python3"
  },
  "language_info": {
   "codemirror_mode": {
    "name": "ipython",
    "version": 3
   },
   "file_extension": ".py",
   "mimetype": "text/x-python",
   "name": "python",
   "nbconvert_exporter": "python",
   "pygments_lexer": "ipython3",
   "version": "3.11.0"
  }
 },
 "nbformat": 4,
 "nbformat_minor": 2
}
