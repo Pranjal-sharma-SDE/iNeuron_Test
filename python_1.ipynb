{
 "cells": [
  {
   "cell_type": "code",
   "execution_count": 48,
   "metadata": {},
   "outputs": [
    {
     "name": "stdout",
     "output_type": "stream",
     "text": [
      "[\"{'abc': {'def': {'ghi': {'jkl': {'mno': {'pqr': {'stu': {'vwx': {'yz': 'you are finally here !!!'}}}}}}}}}\", \"{'def': {'ghi': {'jkl': {'mno': {'pqr': {'stu': {'vwx': {'yz': 'you are finally here !!!'}}}}}}}}\", \"{'ghi': {'jkl': {'mno': {'pqr': {'stu': {'vwx': {'yz': 'you are finally here !!!'}}}}}}}\", \"{'jkl': {'mno': {'pqr': {'stu': {'vwx': {'yz': 'you are finally here !!!'}}}}}}\", \"{'mno': {'pqr': {'stu': {'vwx': {'yz': 'you are finally here !!!'}}}}}\", \"{'pqr': {'stu': {'vwx': {'yz': 'you are finally here !!!'}}}}\", \"{'stu': {'vwx': {'yz': 'you are finally here !!!'}}}\", \"{'vwx': {'yz': 'you are finally here !!!'}}\", \"{'yz': 'you are finally here !!!'}\", 'you are finally here !!!']\n"
     ]
    }
   ],
   "source": [
    "def get_value_by_keys(dictionary, keys):\n",
    "\n",
    "    output = []\n",
    "\n",
    "    value = dictionary\n",
    "    output.append(str(value))\n",
    "    for key in keys:\n",
    "        if key in value:\n",
    "            value = value[key]\n",
    "            # print(value,type(value),str(value))\n",
    "            output.append(str(value))\n",
    "            \n",
    "        else:\n",
    "            return None  # Key not found, handle this case as needed\n",
    "    return output\n",
    "\n",
    "input_dict = {\n",
    "    \"abc\": {\n",
    "        \"def\": {\n",
    "            \"ghi\": {\n",
    "                \"jkl\": {\n",
    "                    \"mno\": {\n",
    "                        \"pqr\": {\n",
    "                            \"stu\": {\n",
    "                                \"vwx\": {\n",
    "                                    \"yz\": \"you are finally here !!!\"\n",
    "                                }\n",
    "                            }\n",
    "                        }\n",
    "                    }\n",
    "                }\n",
    "            }\n",
    "        }\n",
    "    }\n",
    "}\n",
    "\n",
    "# Specify the nested keys to access the value\n",
    "keys_to_access = [\"abc\", \"def\", \"ghi\", \"jkl\", \"mno\", \"pqr\", \"stu\", \"vwx\", \"yz\"]\n",
    "\n",
    "# Use the function to get the value\n",
    "result = get_value_by_keys(input_dict, keys_to_access)\n",
    "\n",
    "# Print the result and its type\n",
    "print(result)\n",
    "# print(type(result))\n"
   ]
  },
  {
   "cell_type": "code",
   "execution_count": 50,
   "metadata": {},
   "outputs": [
    {
     "data": {
      "text/plain": [
       "[\"{'abc': {'def': {'ghi': {'jkl': {'mno': {'pqr': {'stu': {'vwx': {'yz': 'you are finally here !!!'}}}}}}}}}\",\n",
       " \"{'def': {'ghi': {'jkl': {'mno': {'pqr': {'stu': {'vwx': {'yz': 'you are finally here !!!'}}}}}}}}\",\n",
       " \"{'ghi': {'jkl': {'mno': {'pqr': {'stu': {'vwx': {'yz': 'you are finally here !!!'}}}}}}}\",\n",
       " \"{'jkl': {'mno': {'pqr': {'stu': {'vwx': {'yz': 'you are finally here !!!'}}}}}}\",\n",
       " \"{'mno': {'pqr': {'stu': {'vwx': {'yz': 'you are finally here !!!'}}}}}\",\n",
       " \"{'pqr': {'stu': {'vwx': {'yz': 'you are finally here !!!'}}}}\",\n",
       " \"{'stu': {'vwx': {'yz': 'you are finally here !!!'}}}\",\n",
       " \"{'vwx': {'yz': 'you are finally here !!!'}}\",\n",
       " \"{'yz': 'you are finally here !!!'}\",\n",
       " 'you are finally here !!!']"
      ]
     },
     "execution_count": 50,
     "metadata": {},
     "output_type": "execute_result"
    }
   ],
   "source": [
    "result"
   ]
  },
  {
   "cell_type": "code",
   "execution_count": null,
   "metadata": {},
   "outputs": [],
   "source": []
  }
 ],
 "metadata": {
  "kernelspec": {
   "display_name": "Python 3",
   "language": "python",
   "name": "python3"
  },
  "language_info": {
   "codemirror_mode": {
    "name": "ipython",
    "version": 3
   },
   "file_extension": ".py",
   "mimetype": "text/x-python",
   "name": "python",
   "nbconvert_exporter": "python",
   "pygments_lexer": "ipython3",
   "version": "3.11.0"
  }
 },
 "nbformat": 4,
 "nbformat_minor": 2
}
